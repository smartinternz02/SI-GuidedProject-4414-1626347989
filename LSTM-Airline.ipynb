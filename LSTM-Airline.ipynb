{
 "cells": [
  {
   "cell_type": "code",
   "execution_count": 2,
   "metadata": {},
   "outputs": [],
   "source": [
    "import numpy as np\n",
    "import pandas as pd\n",
    "import matplotlib.pyplot as plt"
   ]
  },
  {
   "cell_type": "code",
   "execution_count": 6,
   "metadata": {},
   "outputs": [],
   "source": [
    "data=pd.read_csv('air_passenger.csv')"
   ]
  },
  {
   "cell_type": "code",
   "execution_count": 7,
   "metadata": {},
   "outputs": [
    {
     "data": {
      "text/html": [
       "<div>\n",
       "<style scoped>\n",
       "    .dataframe tbody tr th:only-of-type {\n",
       "        vertical-align: middle;\n",
       "    }\n",
       "\n",
       "    .dataframe tbody tr th {\n",
       "        vertical-align: top;\n",
       "    }\n",
       "\n",
       "    .dataframe thead th {\n",
       "        text-align: right;\n",
       "    }\n",
       "</style>\n",
       "<table border=\"1\" class=\"dataframe\">\n",
       "  <thead>\n",
       "    <tr style=\"text-align: right;\">\n",
       "      <th></th>\n",
       "      <th>Month</th>\n",
       "      <th>#Passengers</th>\n",
       "    </tr>\n",
       "  </thead>\n",
       "  <tbody>\n",
       "    <tr>\n",
       "      <th>0</th>\n",
       "      <td>1949-01</td>\n",
       "      <td>112</td>\n",
       "    </tr>\n",
       "    <tr>\n",
       "      <th>1</th>\n",
       "      <td>1949-02</td>\n",
       "      <td>118</td>\n",
       "    </tr>\n",
       "    <tr>\n",
       "      <th>2</th>\n",
       "      <td>1949-03</td>\n",
       "      <td>132</td>\n",
       "    </tr>\n",
       "    <tr>\n",
       "      <th>3</th>\n",
       "      <td>1949-04</td>\n",
       "      <td>129</td>\n",
       "    </tr>\n",
       "    <tr>\n",
       "      <th>4</th>\n",
       "      <td>1949-05</td>\n",
       "      <td>121</td>\n",
       "    </tr>\n",
       "  </tbody>\n",
       "</table>\n",
       "</div>"
      ],
      "text/plain": [
       "     Month  #Passengers\n",
       "0  1949-01          112\n",
       "1  1949-02          118\n",
       "2  1949-03          132\n",
       "3  1949-04          129\n",
       "4  1949-05          121"
      ]
     },
     "execution_count": 7,
     "metadata": {},
     "output_type": "execute_result"
    }
   ],
   "source": [
    "data.head()"
   ]
  },
  {
   "cell_type": "code",
   "execution_count": 8,
   "metadata": {},
   "outputs": [],
   "source": [
    "data=data.rename(columns={'#Passengers':'Passengers'})"
   ]
  },
  {
   "cell_type": "code",
   "execution_count": 9,
   "metadata": {},
   "outputs": [
    {
     "data": {
      "text/html": [
       "<div>\n",
       "<style scoped>\n",
       "    .dataframe tbody tr th:only-of-type {\n",
       "        vertical-align: middle;\n",
       "    }\n",
       "\n",
       "    .dataframe tbody tr th {\n",
       "        vertical-align: top;\n",
       "    }\n",
       "\n",
       "    .dataframe thead th {\n",
       "        text-align: right;\n",
       "    }\n",
       "</style>\n",
       "<table border=\"1\" class=\"dataframe\">\n",
       "  <thead>\n",
       "    <tr style=\"text-align: right;\">\n",
       "      <th></th>\n",
       "      <th>Month</th>\n",
       "      <th>Passengers</th>\n",
       "    </tr>\n",
       "  </thead>\n",
       "  <tbody>\n",
       "    <tr>\n",
       "      <th>0</th>\n",
       "      <td>1949-01</td>\n",
       "      <td>112</td>\n",
       "    </tr>\n",
       "    <tr>\n",
       "      <th>1</th>\n",
       "      <td>1949-02</td>\n",
       "      <td>118</td>\n",
       "    </tr>\n",
       "  </tbody>\n",
       "</table>\n",
       "</div>"
      ],
      "text/plain": [
       "     Month  Passengers\n",
       "0  1949-01         112\n",
       "1  1949-02         118"
      ]
     },
     "execution_count": 9,
     "metadata": {},
     "output_type": "execute_result"
    }
   ],
   "source": [
    "data.head(2)"
   ]
  },
  {
   "cell_type": "code",
   "execution_count": 10,
   "metadata": {},
   "outputs": [],
   "source": [
    "data['year']=pd.DatetimeIndex(data['Month']).year"
   ]
  },
  {
   "cell_type": "code",
   "execution_count": 11,
   "metadata": {},
   "outputs": [
    {
     "data": {
      "text/html": [
       "<div>\n",
       "<style scoped>\n",
       "    .dataframe tbody tr th:only-of-type {\n",
       "        vertical-align: middle;\n",
       "    }\n",
       "\n",
       "    .dataframe tbody tr th {\n",
       "        vertical-align: top;\n",
       "    }\n",
       "\n",
       "    .dataframe thead th {\n",
       "        text-align: right;\n",
       "    }\n",
       "</style>\n",
       "<table border=\"1\" class=\"dataframe\">\n",
       "  <thead>\n",
       "    <tr style=\"text-align: right;\">\n",
       "      <th></th>\n",
       "      <th>Month</th>\n",
       "      <th>Passengers</th>\n",
       "      <th>year</th>\n",
       "    </tr>\n",
       "  </thead>\n",
       "  <tbody>\n",
       "    <tr>\n",
       "      <th>0</th>\n",
       "      <td>1949-01</td>\n",
       "      <td>112</td>\n",
       "      <td>1949</td>\n",
       "    </tr>\n",
       "    <tr>\n",
       "      <th>1</th>\n",
       "      <td>1949-02</td>\n",
       "      <td>118</td>\n",
       "      <td>1949</td>\n",
       "    </tr>\n",
       "  </tbody>\n",
       "</table>\n",
       "</div>"
      ],
      "text/plain": [
       "     Month  Passengers  year\n",
       "0  1949-01         112  1949\n",
       "1  1949-02         118  1949"
      ]
     },
     "execution_count": 11,
     "metadata": {},
     "output_type": "execute_result"
    }
   ],
   "source": [
    "data.head(2)"
   ]
  },
  {
   "cell_type": "code",
   "execution_count": 12,
   "metadata": {},
   "outputs": [],
   "source": [
    "data['month']=pd.DatetimeIndex(data['Month']).month"
   ]
  },
  {
   "cell_type": "code",
   "execution_count": 13,
   "metadata": {},
   "outputs": [
    {
     "data": {
      "text/html": [
       "<div>\n",
       "<style scoped>\n",
       "    .dataframe tbody tr th:only-of-type {\n",
       "        vertical-align: middle;\n",
       "    }\n",
       "\n",
       "    .dataframe tbody tr th {\n",
       "        vertical-align: top;\n",
       "    }\n",
       "\n",
       "    .dataframe thead th {\n",
       "        text-align: right;\n",
       "    }\n",
       "</style>\n",
       "<table border=\"1\" class=\"dataframe\">\n",
       "  <thead>\n",
       "    <tr style=\"text-align: right;\">\n",
       "      <th></th>\n",
       "      <th>Month</th>\n",
       "      <th>Passengers</th>\n",
       "      <th>year</th>\n",
       "      <th>month</th>\n",
       "    </tr>\n",
       "  </thead>\n",
       "  <tbody>\n",
       "    <tr>\n",
       "      <th>0</th>\n",
       "      <td>1949-01</td>\n",
       "      <td>112</td>\n",
       "      <td>1949</td>\n",
       "      <td>1</td>\n",
       "    </tr>\n",
       "    <tr>\n",
       "      <th>1</th>\n",
       "      <td>1949-02</td>\n",
       "      <td>118</td>\n",
       "      <td>1949</td>\n",
       "      <td>2</td>\n",
       "    </tr>\n",
       "  </tbody>\n",
       "</table>\n",
       "</div>"
      ],
      "text/plain": [
       "     Month  Passengers  year  month\n",
       "0  1949-01         112  1949      1\n",
       "1  1949-02         118  1949      2"
      ]
     },
     "execution_count": 13,
     "metadata": {},
     "output_type": "execute_result"
    }
   ],
   "source": [
    "data.head(2)"
   ]
  },
  {
   "cell_type": "code",
   "execution_count": 14,
   "metadata": {},
   "outputs": [],
   "source": [
    "data.drop(['Month'],axis=1,inplace=True)"
   ]
  },
  {
   "cell_type": "code",
   "execution_count": 15,
   "metadata": {},
   "outputs": [
    {
     "data": {
      "text/html": [
       "<div>\n",
       "<style scoped>\n",
       "    .dataframe tbody tr th:only-of-type {\n",
       "        vertical-align: middle;\n",
       "    }\n",
       "\n",
       "    .dataframe tbody tr th {\n",
       "        vertical-align: top;\n",
       "    }\n",
       "\n",
       "    .dataframe thead th {\n",
       "        text-align: right;\n",
       "    }\n",
       "</style>\n",
       "<table border=\"1\" class=\"dataframe\">\n",
       "  <thead>\n",
       "    <tr style=\"text-align: right;\">\n",
       "      <th></th>\n",
       "      <th>Passengers</th>\n",
       "      <th>year</th>\n",
       "      <th>month</th>\n",
       "    </tr>\n",
       "  </thead>\n",
       "  <tbody>\n",
       "    <tr>\n",
       "      <th>0</th>\n",
       "      <td>112</td>\n",
       "      <td>1949</td>\n",
       "      <td>1</td>\n",
       "    </tr>\n",
       "    <tr>\n",
       "      <th>1</th>\n",
       "      <td>118</td>\n",
       "      <td>1949</td>\n",
       "      <td>2</td>\n",
       "    </tr>\n",
       "  </tbody>\n",
       "</table>\n",
       "</div>"
      ],
      "text/plain": [
       "   Passengers  year  month\n",
       "0         112  1949      1\n",
       "1         118  1949      2"
      ]
     },
     "execution_count": 15,
     "metadata": {},
     "output_type": "execute_result"
    }
   ],
   "source": [
    "data.head(2)"
   ]
  },
  {
   "cell_type": "code",
   "execution_count": 16,
   "metadata": {},
   "outputs": [
    {
     "data": {
      "text/plain": [
       "Text(0, 0.5, 'No. of Passengers')"
      ]
     },
     "execution_count": 16,
     "metadata": {},
     "output_type": "execute_result"
    },
    {
     "data": {
      "image/png": "[encoded data removed]",
      "text/plain": [
       "<Figure size 720x432 with 1 Axes>"
      ]
     },
     "metadata": {
      "needs_background": "light"
     },
     "output_type": "display_data"
    }
   ],
   "source": [
    "#data visualization\n",
    "#plot between month and passengers\n",
    "data.plot(x='month',y='Passengers',figsize=(10,6))\n",
    "plt.xlabel('month')\n",
    "plt.ylabel('No. of Passengers')"
   ]
  },
  {
   "cell_type": "code",
   "execution_count": 17,
   "metadata": {
    "scrolled": true
   },
   "outputs": [
    {
     "data": {
      "text/plain": [
       "<AxesSubplot:xlabel='y(t)', ylabel='y(t + 1)'>"
      ]
     },
     "execution_count": 17,
     "metadata": {},
     "output_type": "execute_result"
    },
    {
     "data": {
      "image/png": "[encoded data removed]",
      "text/plain": [
       "<Figure size 432x288 with 1 Axes>"
      ]
     },
     "metadata": {
      "needs_background": "light"
     },
     "output_type": "display_data"
    }
   ],
   "source": [
    "#lag plot\n",
    "pd.plotting.lag_plot(data['Passengers'])"
   ]
  },
  {
   "cell_type": "code",
   "execution_count": 18,
   "metadata": {},
   "outputs": [
    {
     "data": {
      "text/plain": [
       "<AxesSubplot:xlabel='year', ylabel='Passengers'>"
      ]
     },
     "execution_count": 18,
     "metadata": {},
     "output_type": "execute_result"
    },
    {
     "data": {
      "image/png": "[encoded data removed]",
      "text/plain": [
       "<Figure size 432x288 with 2 Axes>"
      ]
     },
     "metadata": {
      "needs_background": "light"
     },
     "output_type": "display_data"
    }
   ],
   "source": [
    "#hexbin plot\n",
    "data.plot.hexbin(x='year',y='Passengers',gridsize=20)"
   ]
  },
  {
   "cell_type": "code",
   "execution_count": 19,
   "metadata": {},
   "outputs": [
    {
     "data": {
      "text/plain": [
       "<AxesSubplot:xlabel='month', ylabel='Passengers'>"
      ]
     },
     "execution_count": 19,
     "metadata": {},
     "output_type": "execute_result"
    },
    {
     "data": {
      "image/png": "[encoded data removed]",
      "text/plain": [
       "<Figure size 432x288 with 2 Axes>"
      ]
     },
     "metadata": {
      "needs_background": "light"
     },
     "output_type": "display_data"
    }
   ],
   "source": [
    "data.plot.hexbin(x='month',y='Passengers',gridsize=20)"
   ]
  },
  {
   "cell_type": "code",
   "execution_count": 20,
   "metadata": {
    "scrolled": true
   },
   "outputs": [
    {
     "data": {
      "image/png": "[encoded data removed]",
      "text/plain": [
       "<Figure size 720x432 with 1 Axes>"
      ]
     },
     "metadata": {
      "needs_background": "light"
     },
     "output_type": "display_data"
    }
   ],
   "source": [
    "#box plot\n",
    "a=data.boxplot(figsize=(10,6),by='year',column='Passengers')"
   ]
  },
  {
   "cell_type": "code",
   "execution_count": 23,
   "metadata": {},
   "outputs": [
    {
     "name": "stdout",
     "output_type": "stream",
     "text": [
      "Collecting seaborn\n",
      "  Using cached seaborn-0.11.1-py3-none-any.whl (285 kB)\n",
      "Requirement already satisfied: numpy>=1.15 in c:\\users\\teja bros\\appdata\\roaming\\python\\python39\\site-packages (from seaborn) (1.19.5)\n",
      "Requirement already satisfied: pandas>=0.23 in c:\\users\\teja bros\\appdata\\roaming\\python\\python39\\site-packages (from seaborn) (1.3.0)\n",
      "Requirement already satisfied: scipy>=1.0 in c:\\users\\teja bros\\appdata\\roaming\\python\\python39\\site-packages (from seaborn) (1.7.0)\n",
      "Requirement already satisfied: matplotlib>=2.2 in c:\\users\\teja bros\\appdata\\roaming\\python\\python39\\site-packages (from seaborn) (3.4.2)\n",
      "Requirement already satisfied: kiwisolver>=1.0.1 in c:\\users\\teja bros\\appdata\\roaming\\python\\python39\\site-packages (from matplotlib>=2.2->seaborn) (1.3.1)\n",
      "Requirement already satisfied: cycler>=0.10 in c:\\users\\teja bros\\appdata\\roaming\\python\\python39\\site-packages (from matplotlib>=2.2->seaborn) (0.10.0)\n",
      "Requirement already satisfied: pyparsing>=2.2.1 in c:\\users\\teja bros\\appdata\\roaming\\python\\python39\\site-packages (from matplotlib>=2.2->seaborn) (2.4.7)\n",
      "Requirement already satisfied: python-dateutil>=2.7 in c:\\users\\teja bros\\appdata\\roaming\\python\\python39\\site-packages (from matplotlib>=2.2->seaborn) (2.8.2)\n",
      "Requirement already satisfied: pillow>=6.2.0 in c:\\users\\teja bros\\appdata\\roaming\\python\\python39\\site-packages (from matplotlib>=2.2->seaborn) (8.3.1)\n",
      "Requirement already satisfied: six in c:\\users\\teja bros\\appdata\\roaming\\python\\python39\\site-packages (from cycler>=0.10->matplotlib>=2.2->seaborn) (1.15.0)\n",
      "Requirement already satisfied: pytz>=2017.3 in c:\\users\\teja bros\\appdata\\roaming\\python\\python39\\site-packages (from pandas>=0.23->seaborn) (2021.1)\n",
      "Installing collected packages: seaborn\n",
      "Successfully installed seaborn-0.11.1\n"
     ]
    },
    {
     "name": "stderr",
     "output_type": "stream",
     "text": [
      "WARNING: You are using pip version 21.2.1; however, version 21.2.2 is available.\n",
      "You should consider upgrading via the 'c:\\users\\teja bros\\.conda\\envs\\python=3.8\\python.exe -m pip install --upgrade pip' command.\n"
     ]
    }
   ],
   "source": [
    "!pip install seaborn"
   ]
  },
  {
   "cell_type": "code",
   "execution_count": 24,
   "metadata": {},
   "outputs": [
    {
     "data": {
      "text/plain": [
       "<AxesSubplot:xlabel='year', ylabel='Passengers'>"
      ]
     },
     "execution_count": 24,
     "metadata": {},
     "output_type": "execute_result"
    },
    {
     "data": {
      "image/png": "[encoded data removed]",
      "text/plain": [
       "<Figure size 432x288 with 1 Axes>"
      ]
     },
     "metadata": {
      "needs_background": "light"
     },
     "output_type": "display_data"
    }
   ],
   "source": [
    "#lineplot between year and passengers\n",
    "#import seaborn library\n",
    "import seaborn as sns\n",
    "sns.lineplot(x='year',y='Passengers',data=data,color='red')"
   ]
  },
  {
   "cell_type": "code",
   "execution_count": 25,
   "metadata": {},
   "outputs": [
    {
     "data": {
      "text/plain": [
       "<AxesSubplot:xlabel='month', ylabel='Passengers'>"
      ]
     },
     "execution_count": 25,
     "metadata": {},
     "output_type": "execute_result"
    },
    {
     "data": {
      "image/png": "[encoded data removed]",
      "text/plain": [
       "<Figure size 432x288 with 1 Axes>"
      ]
     },
     "metadata": {
      "needs_background": "light"
     },
     "output_type": "display_data"
    }
   ],
   "source": [
    "#lineplot between month and passengers\n",
    "import seaborn as sns\n",
    "sns.lineplot(x='month',y='Passengers',data=data,color='red')\n"
   ]
  },
  {
   "cell_type": "code",
   "execution_count": 26,
   "metadata": {},
   "outputs": [],
   "source": [
    "#assiging data to train_df\n",
    "train_df = pd.DataFrame(data)"
   ]
  },
  {
   "cell_type": "code",
   "execution_count": 27,
   "metadata": {},
   "outputs": [
    {
     "name": "stdout",
     "output_type": "stream",
     "text": [
      "(144, 3) (129, 3) (15, 3)\n"
     ]
    }
   ],
   "source": [
    "# split into train and test sets\n",
    "#considering 90% data as train set and 10% as test set \n",
    "train_len =  int(0.9*len(train_df))\n",
    "test_len = len(train_df) - train_len\n",
    "\n",
    "train,test = train_df.iloc[:train_len],train_df.iloc[train_len:len(train_df)]\n",
    "print(train_df.shape,train.shape,test.shape)"
   ]
  },
  {
   "cell_type": "code",
   "execution_count": 28,
   "metadata": {},
   "outputs": [
    {
     "data": {
      "text/plain": [
       "129"
      ]
     },
     "execution_count": 28,
     "metadata": {},
     "output_type": "execute_result"
    }
   ],
   "source": [
    "train_len"
   ]
  },
  {
   "cell_type": "code",
   "execution_count": 29,
   "metadata": {},
   "outputs": [
    {
     "name": "stderr",
     "output_type": "stream",
     "text": [
      "C:\\Users\\teja bros\\AppData\\Roaming\\Python\\Python39\\site-packages\\pandas\\core\\indexing.py:1835: SettingWithCopyWarning: \n",
      "A value is trying to be set on a copy of a slice from a DataFrame.\n",
      "Try using .loc[row_indexer,col_indexer] = value instead\n",
      "\n",
      "See the caveats in the documentation: https://pandas.pydata.org/pandas-docs/stable/user_guide/indexing.html#returning-a-view-versus-a-copy\n",
      "  self._setitem_single_column(loc, value[:, i].tolist(), pi)\n",
      "C:\\Users\\teja bros\\AppData\\Roaming\\Python\\Python39\\site-packages\\pandas\\core\\indexing.py:1835: SettingWithCopyWarning: \n",
      "A value is trying to be set on a copy of a slice from a DataFrame.\n",
      "Try using .loc[row_indexer,col_indexer] = value instead\n",
      "\n",
      "See the caveats in the documentation: https://pandas.pydata.org/pandas-docs/stable/user_guide/indexing.html#returning-a-view-versus-a-copy\n",
      "  self._setitem_single_column(loc, value[:, i].tolist(), pi)\n"
     ]
    }
   ],
   "source": [
    "#import robust scaler\n",
    "from sklearn.preprocessing import RobustScaler\n",
    "#create object to scaler\n",
    "rs = RobustScaler()\n",
    "rs_pas = RobustScaler()\n",
    "\n",
    "#to which columns apply scaling\n",
    "t_c = ['year','month']\n",
    "#normalize year and month column\n",
    "train.loc[:,t_c] = rs.fit_transform(train[t_c].values)\n",
    "test.loc[:,t_c] = rs.transform(test[t_c].values)"
   ]
  },
  {
   "cell_type": "code",
   "execution_count": 30,
   "metadata": {},
   "outputs": [
    {
     "name": "stderr",
     "output_type": "stream",
     "text": [
      "C:\\Users\\teja bros\\AppData\\Roaming\\Python\\Python39\\site-packages\\pandas\\core\\frame.py:3607: SettingWithCopyWarning: \n",
      "A value is trying to be set on a copy of a slice from a DataFrame.\n",
      "Try using .loc[row_indexer,col_indexer] = value instead\n",
      "\n",
      "See the caveats in the documentation: https://pandas.pydata.org/pandas-docs/stable/user_guide/indexing.html#returning-a-view-versus-a-copy\n",
      "  self._set_item(key, value)\n",
      "C:\\Users\\teja bros\\AppData\\Roaming\\Python\\Python39\\site-packages\\pandas\\core\\frame.py:3607: SettingWithCopyWarning: \n",
      "A value is trying to be set on a copy of a slice from a DataFrame.\n",
      "Try using .loc[row_indexer,col_indexer] = value instead\n",
      "\n",
      "See the caveats in the documentation: https://pandas.pydata.org/pandas-docs/stable/user_guide/indexing.html#returning-a-view-versus-a-copy\n",
      "  self._set_item(key, value)\n"
     ]
    }
   ],
   "source": [
    "train['Passengers'] = rs_pas.fit_transform(train[['Passengers']])\n",
    "test['Passengers'] = rs_pas.transform(test[['Passengers']])"
   ]
  },
  {
   "cell_type": "code",
   "execution_count": 31,
   "metadata": {},
   "outputs": [
    {
     "data": {
      "text/html": [
       "<div>\n",
       "<style scoped>\n",
       "    .dataframe tbody tr th:only-of-type {\n",
       "        vertical-align: middle;\n",
       "    }\n",
       "\n",
       "    .dataframe tbody tr th {\n",
       "        vertical-align: top;\n",
       "    }\n",
       "\n",
       "    .dataframe thead th {\n",
       "        text-align: right;\n",
       "    }\n",
       "</style>\n",
       "<table border=\"1\" class=\"dataframe\">\n",
       "  <thead>\n",
       "    <tr style=\"text-align: right;\">\n",
       "      <th></th>\n",
       "      <th>Passengers</th>\n",
       "      <th>year</th>\n",
       "      <th>month</th>\n",
       "    </tr>\n",
       "  </thead>\n",
       "  <tbody>\n",
       "    <tr>\n",
       "      <th>129</th>\n",
       "      <td>1.030303</td>\n",
       "      <td>0.833333</td>\n",
       "      <td>0.666667</td>\n",
       "    </tr>\n",
       "    <tr>\n",
       "      <th>130</th>\n",
       "      <td>0.757576</td>\n",
       "      <td>0.833333</td>\n",
       "      <td>0.833333</td>\n",
       "    </tr>\n",
       "    <tr>\n",
       "      <th>131</th>\n",
       "      <td>1.018182</td>\n",
       "      <td>0.833333</td>\n",
       "      <td>1.000000</td>\n",
       "    </tr>\n",
       "    <tr>\n",
       "      <th>132</th>\n",
       "      <td>1.090909</td>\n",
       "      <td>1.000000</td>\n",
       "      <td>-0.833333</td>\n",
       "    </tr>\n",
       "    <tr>\n",
       "      <th>133</th>\n",
       "      <td>0.933333</td>\n",
       "      <td>1.000000</td>\n",
       "      <td>-0.666667</td>\n",
       "    </tr>\n",
       "    <tr>\n",
       "      <th>134</th>\n",
       "      <td>1.103030</td>\n",
       "      <td>1.000000</td>\n",
       "      <td>-0.500000</td>\n",
       "    </tr>\n",
       "    <tr>\n",
       "      <th>135</th>\n",
       "      <td>1.357576</td>\n",
       "      <td>1.000000</td>\n",
       "      <td>-0.333333</td>\n",
       "    </tr>\n",
       "    <tr>\n",
       "      <th>136</th>\n",
       "      <td>1.424242</td>\n",
       "      <td>1.000000</td>\n",
       "      <td>-0.166667</td>\n",
       "    </tr>\n",
       "    <tr>\n",
       "      <th>137</th>\n",
       "      <td>1.806061</td>\n",
       "      <td>1.000000</td>\n",
       "      <td>0.000000</td>\n",
       "    </tr>\n",
       "    <tr>\n",
       "      <th>138</th>\n",
       "      <td>2.333333</td>\n",
       "      <td>1.000000</td>\n",
       "      <td>0.166667</td>\n",
       "    </tr>\n",
       "    <tr>\n",
       "      <th>139</th>\n",
       "      <td>2.236364</td>\n",
       "      <td>1.000000</td>\n",
       "      <td>0.333333</td>\n",
       "    </tr>\n",
       "    <tr>\n",
       "      <th>140</th>\n",
       "      <td>1.642424</td>\n",
       "      <td>1.000000</td>\n",
       "      <td>0.500000</td>\n",
       "    </tr>\n",
       "    <tr>\n",
       "      <th>141</th>\n",
       "      <td>1.357576</td>\n",
       "      <td>1.000000</td>\n",
       "      <td>0.666667</td>\n",
       "    </tr>\n",
       "    <tr>\n",
       "      <th>142</th>\n",
       "      <td>0.927273</td>\n",
       "      <td>1.000000</td>\n",
       "      <td>0.833333</td>\n",
       "    </tr>\n",
       "    <tr>\n",
       "      <th>143</th>\n",
       "      <td>1.181818</td>\n",
       "      <td>1.000000</td>\n",
       "      <td>1.000000</td>\n",
       "    </tr>\n",
       "  </tbody>\n",
       "</table>\n",
       "</div>"
      ],
      "text/plain": [
       "     Passengers      year     month\n",
       "129    1.030303  0.833333  0.666667\n",
       "130    0.757576  0.833333  0.833333\n",
       "131    1.018182  0.833333  1.000000\n",
       "132    1.090909  1.000000 -0.833333\n",
       "133    0.933333  1.000000 -0.666667\n",
       "134    1.103030  1.000000 -0.500000\n",
       "135    1.357576  1.000000 -0.333333\n",
       "136    1.424242  1.000000 -0.166667\n",
       "137    1.806061  1.000000  0.000000\n",
       "138    2.333333  1.000000  0.166667\n",
       "139    2.236364  1.000000  0.333333\n",
       "140    1.642424  1.000000  0.500000\n",
       "141    1.357576  1.000000  0.666667\n",
       "142    0.927273  1.000000  0.833333\n",
       "143    1.181818  1.000000  1.000000"
      ]
     },
     "execution_count": 31,
     "metadata": {},
     "output_type": "execute_result"
    }
   ],
   "source": [
    "test"
   ]
  },
  {
   "cell_type": "code",
   "execution_count": 32,
   "metadata": {},
   "outputs": [
    {
     "data": {
      "text/html": [
       "<div>\n",
       "<style scoped>\n",
       "    .dataframe tbody tr th:only-of-type {\n",
       "        vertical-align: middle;\n",
       "    }\n",
       "\n",
       "    .dataframe tbody tr th {\n",
       "        vertical-align: top;\n",
       "    }\n",
       "\n",
       "    .dataframe thead th {\n",
       "        text-align: right;\n",
       "    }\n",
       "</style>\n",
       "<table border=\"1\" class=\"dataframe\">\n",
       "  <thead>\n",
       "    <tr style=\"text-align: right;\">\n",
       "      <th></th>\n",
       "      <th>Passengers</th>\n",
       "      <th>year</th>\n",
       "      <th>month</th>\n",
       "    </tr>\n",
       "  </thead>\n",
       "  <tbody>\n",
       "    <tr>\n",
       "      <th>0</th>\n",
       "      <td>-0.757576</td>\n",
       "      <td>-0.833333</td>\n",
       "      <td>-0.833333</td>\n",
       "    </tr>\n",
       "    <tr>\n",
       "      <th>1</th>\n",
       "      <td>-0.721212</td>\n",
       "      <td>-0.833333</td>\n",
       "      <td>-0.666667</td>\n",
       "    </tr>\n",
       "    <tr>\n",
       "      <th>2</th>\n",
       "      <td>-0.636364</td>\n",
       "      <td>-0.833333</td>\n",
       "      <td>-0.500000</td>\n",
       "    </tr>\n",
       "    <tr>\n",
       "      <th>3</th>\n",
       "      <td>-0.654545</td>\n",
       "      <td>-0.833333</td>\n",
       "      <td>-0.333333</td>\n",
       "    </tr>\n",
       "    <tr>\n",
       "      <th>4</th>\n",
       "      <td>-0.703030</td>\n",
       "      <td>-0.833333</td>\n",
       "      <td>-0.166667</td>\n",
       "    </tr>\n",
       "    <tr>\n",
       "      <th>...</th>\n",
       "      <td>...</td>\n",
       "      <td>...</td>\n",
       "      <td>...</td>\n",
       "    </tr>\n",
       "    <tr>\n",
       "      <th>124</th>\n",
       "      <td>1.109091</td>\n",
       "      <td>0.833333</td>\n",
       "      <td>-0.166667</td>\n",
       "    </tr>\n",
       "    <tr>\n",
       "      <th>125</th>\n",
       "      <td>1.424242</td>\n",
       "      <td>0.833333</td>\n",
       "      <td>0.000000</td>\n",
       "    </tr>\n",
       "    <tr>\n",
       "      <th>126</th>\n",
       "      <td>1.884848</td>\n",
       "      <td>0.833333</td>\n",
       "      <td>0.166667</td>\n",
       "    </tr>\n",
       "    <tr>\n",
       "      <th>127</th>\n",
       "      <td>1.951515</td>\n",
       "      <td>0.833333</td>\n",
       "      <td>0.333333</td>\n",
       "    </tr>\n",
       "    <tr>\n",
       "      <th>128</th>\n",
       "      <td>1.369697</td>\n",
       "      <td>0.833333</td>\n",
       "      <td>0.500000</td>\n",
       "    </tr>\n",
       "  </tbody>\n",
       "</table>\n",
       "<p>129 rows × 3 columns</p>\n",
       "</div>"
      ],
      "text/plain": [
       "     Passengers      year     month\n",
       "0     -0.757576 -0.833333 -0.833333\n",
       "1     -0.721212 -0.833333 -0.666667\n",
       "2     -0.636364 -0.833333 -0.500000\n",
       "3     -0.654545 -0.833333 -0.333333\n",
       "4     -0.703030 -0.833333 -0.166667\n",
       "..          ...       ...       ...\n",
       "124    1.109091  0.833333 -0.166667\n",
       "125    1.424242  0.833333  0.000000\n",
       "126    1.884848  0.833333  0.166667\n",
       "127    1.951515  0.833333  0.333333\n",
       "128    1.369697  0.833333  0.500000\n",
       "\n",
       "[129 rows x 3 columns]"
      ]
     },
     "execution_count": 32,
     "metadata": {},
     "output_type": "execute_result"
    }
   ],
   "source": [
    "train"
   ]
  },
  {
   "cell_type": "code",
   "execution_count": 33,
   "metadata": {},
   "outputs": [
    {
     "data": {
      "text/plain": [
       "array([[ 1.03030303,  0.83333333,  0.66666667],\n",
       "       [ 0.75757576,  0.83333333,  0.83333333],\n",
       "       [ 1.01818182,  0.83333333,  1.        ],\n",
       "       [ 1.09090909,  1.        , -0.83333333],\n",
       "       [ 0.93333333,  1.        , -0.66666667],\n",
       "       [ 1.1030303 ,  1.        , -0.5       ],\n",
       "       [ 1.35757576,  1.        , -0.33333333],\n",
       "       [ 1.42424242,  1.        , -0.16666667],\n",
       "       [ 1.80606061,  1.        ,  0.        ],\n",
       "       [ 2.33333333,  1.        ,  0.16666667],\n",
       "       [ 2.23636364,  1.        ,  0.33333333],\n",
       "       [ 1.64242424,  1.        ,  0.5       ],\n",
       "       [ 1.35757576,  1.        ,  0.66666667],\n",
       "       [ 0.92727273,  1.        ,  0.83333333],\n",
       "       [ 1.18181818,  1.        ,  1.        ]])"
      ]
     },
     "execution_count": 33,
     "metadata": {},
     "output_type": "execute_result"
    }
   ],
   "source": [
    "#converting test and train sets into numpy array\n",
    "train.values\n",
    "test.values"
   ]
  },
  {
   "cell_type": "code",
   "execution_count": 34,
   "metadata": {},
   "outputs": [],
   "source": [
    "## convert an array of values into a dataset matrix\n",
    "def create_dataset(x,y,time_steps=1):\n",
    "#create an empty lists\n",
    "    x_train,y_train = [],[]\n",
    "#time step is the next how many sequence of output\n",
    "    for i in range(len(x)-time_steps):\n",
    "        v = x.iloc[i:(i+time_steps)].values\n",
    "#appending values to a lists\n",
    "        x_train.append(v)\n",
    "        y_train.append(y.iloc[i+time_steps])\n",
    "#returning the list of arrays\n",
    "    return np.array(x_train),np.array(y_train)"
   ]
  },
  {
   "cell_type": "code",
   "execution_count": 35,
   "metadata": {},
   "outputs": [
    {
     "name": "stdout",
     "output_type": "stream",
     "text": [
      "(128, 1, 3) (128,)\n"
     ]
    }
   ],
   "source": [
    "time_steps = 1\n",
    "\n",
    "x_train,y_train = create_dataset(train,train.Passengers,time_steps)\n",
    "x_test,y_test = create_dataset(test,test.Passengers,time_steps)\n",
    "\n",
    "print(x_train.shape,y_train.shape)"
   ]
  },
  {
   "cell_type": "code",
   "execution_count": 37,
   "metadata": {},
   "outputs": [],
   "source": [
    "#import keras library\n",
    "import keras\n",
    "#import sequential from keras\n",
    "from tensorflow.keras.models import Sequential\n",
    "#import different layers\n",
    "from tensorflow.keras.layers import Dense,LSTM ,Bidirectional,Dropout"
   ]
  },
  {
   "cell_type": "code",
   "execution_count": 38,
   "metadata": {},
   "outputs": [],
   "source": [
    "#intialise the sequential model\n",
    "model = Sequential()\n",
    "#add LSTM network layer \n",
    "model.add(Bidirectional(LSTM(128,\n",
    "                            input_shape=(1,3))))\n",
    "#add dropout layer\n",
    "model.add(Dropout(0.25))\n",
    "#add dense layer i.e. Output layer\n",
    "model.add(Dense(1))\n",
    "#trainig the model\n",
    "model.compile(loss='mse',optimizer='adam')"
   ]
  },
  {
   "cell_type": "code",
   "execution_count": 39,
   "metadata": {},
   "outputs": [
    {
     "name": "stdout",
     "output_type": "stream",
     "text": [
      "Epoch 1/400\n",
      "4/4 [==============================] - 6s 175ms/step - loss: 0.3226 - val_loss: 1.2903\n",
      "Epoch 2/400\n",
      "4/4 [==============================] - 0s 11ms/step - loss: 0.2932 - val_loss: 1.1932\n",
      "Epoch 3/400\n",
      "4/4 [==============================] - 0s 15ms/step - loss: 0.2723 - val_loss: 1.0966\n",
      "Epoch 4/400\n",
      "4/4 [==============================] - 0s 16ms/step - loss: 0.2490 - val_loss: 1.0028\n",
      "Epoch 5/400\n",
      "4/4 [==============================] - 0s 16ms/step - loss: 0.2273 - val_loss: 0.9121\n",
      "Epoch 6/400\n",
      "4/4 [==============================] - 0s 13ms/step - loss: 0.2066 - val_loss: 0.8247\n",
      "Epoch 7/400\n",
      "4/4 [==============================] - 0s 15ms/step - loss: 0.1910 - val_loss: 0.7406\n",
      "Epoch 8/400\n",
      "4/4 [==============================] - 0s 20ms/step - loss: 0.1700 - val_loss: 0.6599\n",
      "Epoch 9/400\n",
      "4/4 [==============================] - 0s 12ms/step - loss: 0.1547 - val_loss: 0.5827\n",
      "Epoch 10/400\n",
      "4/4 [==============================] - 0s 17ms/step - loss: 0.1363 - val_loss: 0.5095\n",
      "Epoch 11/400\n",
      "4/4 [==============================] - 0s 19ms/step - loss: 0.1199 - val_loss: 0.4407\n",
      "Epoch 12/400\n",
      "4/4 [==============================] - 0s 14ms/step - loss: 0.1041 - val_loss: 0.3768\n",
      "Epoch 13/400\n",
      "4/4 [==============================] - 0s 16ms/step - loss: 0.0896 - val_loss: 0.3182\n",
      "Epoch 14/400\n",
      "4/4 [==============================] - 1s 268ms/step - loss: 0.0783 - val_loss: 0.2655\n",
      "Epoch 15/400\n",
      "4/4 [==============================] - 0s 10ms/step - loss: 0.0674 - val_loss: 0.2194\n",
      "Epoch 16/400\n",
      "4/4 [==============================] - 0s 15ms/step - loss: 0.0565 - val_loss: 0.1804\n",
      "Epoch 17/400\n",
      "4/4 [==============================] - 0s 13ms/step - loss: 0.0484 - val_loss: 0.1484\n",
      "Epoch 18/400\n",
      "4/4 [==============================] - 0s 16ms/step - loss: 0.0412 - val_loss: 0.1234\n",
      "Epoch 19/400\n",
      "4/4 [==============================] - 0s 13ms/step - loss: 0.0374 - val_loss: 0.1051\n",
      "Epoch 20/400\n",
      "4/4 [==============================] - 0s 15ms/step - loss: 0.0315 - val_loss: 0.0927\n",
      "Epoch 21/400\n",
      "4/4 [==============================] - 0s 15ms/step - loss: 0.0271 - val_loss: 0.0854\n",
      "Epoch 22/400\n",
      "4/4 [==============================] - 0s 12ms/step - loss: 0.0253 - val_loss: 0.0819\n",
      "Epoch 23/400\n",
      "4/4 [==============================] - 0s 14ms/step - loss: 0.0255 - val_loss: 0.0810\n",
      "Epoch 24/400\n",
      "4/4 [==============================] - 0s 14ms/step - loss: 0.0241 - val_loss: 0.0816\n",
      "Epoch 25/400\n",
      "4/4 [==============================] - 0s 15ms/step - loss: 0.0236 - val_loss: 0.0828\n",
      "Epoch 26/400\n",
      "4/4 [==============================] - 0s 13ms/step - loss: 0.0228 - val_loss: 0.0840\n",
      "Epoch 27/400\n",
      "4/4 [==============================] - 0s 16ms/step - loss: 0.0237 - val_loss: 0.0852\n",
      "Epoch 28/400\n",
      "4/4 [==============================] - 0s 15ms/step - loss: 0.0239 - val_loss: 0.0860\n",
      "Epoch 29/400\n",
      "4/4 [==============================] - 0s 15ms/step - loss: 0.0231 - val_loss: 0.0863\n",
      "Epoch 30/400\n",
      "4/4 [==============================] - 0s 15ms/step - loss: 0.0227 - val_loss: 0.0860\n",
      "Epoch 31/400\n",
      "4/4 [==============================] - 0s 15ms/step - loss: 0.0230 - val_loss: 0.0856\n",
      "Epoch 32/400\n",
      "4/4 [==============================] - 0s 15ms/step - loss: 0.0231 - val_loss: 0.0851\n",
      "Epoch 33/400\n",
      "4/4 [==============================] - 0s 16ms/step - loss: 0.0219 - val_loss: 0.0846\n",
      "Epoch 34/400\n",
      "4/4 [==============================] - 0s 16ms/step - loss: 0.0212 - val_loss: 0.0842\n",
      "Epoch 35/400\n",
      "4/4 [==============================] - 0s 15ms/step - loss: 0.0228 - val_loss: 0.0835\n",
      "Epoch 36/400\n",
      "4/4 [==============================] - 0s 14ms/step - loss: 0.0219 - val_loss: 0.0830\n",
      "Epoch 37/400\n",
      "4/4 [==============================] - 0s 14ms/step - loss: 0.0229 - val_loss: 0.0828\n",
      "Epoch 38/400\n",
      "4/4 [==============================] - 0s 14ms/step - loss: 0.0233 - val_loss: 0.0826\n",
      "Epoch 39/400\n",
      "4/4 [==============================] - 0s 11ms/step - loss: 0.0219 - val_loss: 0.0826\n",
      "Epoch 40/400\n",
      "4/4 [==============================] - 0s 15ms/step - loss: 0.0226 - val_loss: 0.0828\n",
      "Epoch 41/400\n",
      "4/4 [==============================] - 0s 17ms/step - loss: 0.0237 - val_loss: 0.0830\n",
      "Epoch 42/400\n",
      "4/4 [==============================] - 0s 15ms/step - loss: 0.0221 - val_loss: 0.0833\n",
      "Epoch 43/400\n",
      "4/4 [==============================] - 0s 15ms/step - loss: 0.0218 - val_loss: 0.0836\n",
      "Epoch 44/400\n",
      "4/4 [==============================] - 0s 13ms/step - loss: 0.0228 - val_loss: 0.0835\n",
      "Epoch 45/400\n",
      "4/4 [==============================] - 0s 15ms/step - loss: 0.0208 - val_loss: 0.0836\n",
      "Epoch 46/400\n",
      "4/4 [==============================] - 0s 16ms/step - loss: 0.0221 - val_loss: 0.0837\n",
      "Epoch 47/400\n",
      "4/4 [==============================] - 0s 14ms/step - loss: 0.0212 - val_loss: 0.0839\n",
      "Epoch 48/400\n",
      "4/4 [==============================] - 0s 15ms/step - loss: 0.0208 - val_loss: 0.0840\n",
      "Epoch 49/400\n",
      "4/4 [==============================] - 0s 16ms/step - loss: 0.0231 - val_loss: 0.0841\n",
      "Epoch 50/400\n",
      "4/4 [==============================] - 0s 14ms/step - loss: 0.0205 - val_loss: 0.0844\n",
      "Epoch 51/400\n",
      "4/4 [==============================] - 0s 12ms/step - loss: 0.0219 - val_loss: 0.0846\n",
      "Epoch 52/400\n",
      "4/4 [==============================] - 0s 13ms/step - loss: 0.0211 - val_loss: 0.0847\n",
      "Epoch 53/400\n",
      "4/4 [==============================] - 0s 12ms/step - loss: 0.0230 - val_loss: 0.0847\n",
      "Epoch 54/400\n",
      "4/4 [==============================] - 0s 10ms/step - loss: 0.0224 - val_loss: 0.0851\n",
      "Epoch 55/400\n",
      "4/4 [==============================] - 0s 14ms/step - loss: 0.0211 - val_loss: 0.0854\n",
      "Epoch 56/400\n",
      "4/4 [==============================] - 0s 15ms/step - loss: 0.0219 - val_loss: 0.0856\n",
      "Epoch 57/400\n",
      "4/4 [==============================] - 0s 19ms/step - loss: 0.0217 - val_loss: 0.0856\n",
      "Epoch 58/400\n",
      "4/4 [==============================] - 0s 15ms/step - loss: 0.0208 - val_loss: 0.0857\n",
      "Epoch 59/400\n",
      "4/4 [==============================] - 0s 13ms/step - loss: 0.0210 - val_loss: 0.0858\n",
      "Epoch 60/400\n",
      "4/4 [==============================] - 0s 11ms/step - loss: 0.0227 - val_loss: 0.0857\n",
      "Epoch 61/400\n",
      "4/4 [==============================] - 0s 14ms/step - loss: 0.0216 - val_loss: 0.0857\n",
      "Epoch 62/400\n",
      "4/4 [==============================] - 0s 14ms/step - loss: 0.0205 - val_loss: 0.0859\n",
      "Epoch 63/400\n",
      "4/4 [==============================] - 0s 11ms/step - loss: 0.0204 - val_loss: 0.0861\n",
      "Epoch 64/400\n",
      "4/4 [==============================] - 0s 11ms/step - loss: 0.0203 - val_loss: 0.0863\n",
      "Epoch 65/400\n",
      "4/4 [==============================] - 0s 15ms/step - loss: 0.0209 - val_loss: 0.0864\n",
      "Epoch 66/400\n",
      "4/4 [==============================] - 0s 15ms/step - loss: 0.0206 - val_loss: 0.0865\n",
      "Epoch 67/400\n",
      "4/4 [==============================] - 0s 13ms/step - loss: 0.0203 - val_loss: 0.0865\n",
      "Epoch 68/400\n",
      "4/4 [==============================] - 0s 9ms/step - loss: 0.0219 - val_loss: 0.0868\n",
      "Epoch 69/400\n",
      "4/4 [==============================] - 0s 15ms/step - loss: 0.0208 - val_loss: 0.0867\n",
      "Epoch 70/400\n",
      "4/4 [==============================] - 0s 17ms/step - loss: 0.0223 - val_loss: 0.0870\n",
      "Epoch 71/400\n",
      "4/4 [==============================] - 0s 12ms/step - loss: 0.0226 - val_loss: 0.0870\n",
      "Epoch 72/400\n",
      "4/4 [==============================] - 0s 14ms/step - loss: 0.0220 - val_loss: 0.0868\n",
      "Epoch 73/400\n",
      "4/4 [==============================] - 0s 14ms/step - loss: 0.0211 - val_loss: 0.0866\n",
      "Epoch 74/400\n",
      "4/4 [==============================] - 0s 12ms/step - loss: 0.0216 - val_loss: 0.0859\n",
      "Epoch 75/400\n",
      "4/4 [==============================] - 0s 11ms/step - loss: 0.0200 - val_loss: 0.0856\n",
      "Epoch 76/400\n",
      "4/4 [==============================] - 0s 14ms/step - loss: 0.0200 - val_loss: 0.0858\n",
      "Epoch 77/400\n",
      "4/4 [==============================] - 0s 14ms/step - loss: 0.0197 - val_loss: 0.0863\n",
      "Epoch 78/400\n",
      "4/4 [==============================] - 0s 13ms/step - loss: 0.0221 - val_loss: 0.0865\n",
      "Epoch 79/400\n",
      "4/4 [==============================] - 0s 12ms/step - loss: 0.0203 - val_loss: 0.0864\n",
      "Epoch 80/400\n",
      "4/4 [==============================] - 0s 11ms/step - loss: 0.0213 - val_loss: 0.0865\n",
      "Epoch 81/400\n",
      "4/4 [==============================] - 0s 15ms/step - loss: 0.0205 - val_loss: 0.0865\n",
      "Epoch 82/400\n",
      "4/4 [==============================] - 0s 12ms/step - loss: 0.0201 - val_loss: 0.0865\n",
      "Epoch 83/400\n",
      "4/4 [==============================] - 0s 11ms/step - loss: 0.0217 - val_loss: 0.0864\n"
     ]
    },
    {
     "name": "stdout",
     "output_type": "stream",
     "text": [
      "Epoch 84/400\n",
      "4/4 [==============================] - 0s 11ms/step - loss: 0.0200 - val_loss: 0.0865\n",
      "Epoch 85/400\n",
      "4/4 [==============================] - 0s 13ms/step - loss: 0.0226 - val_loss: 0.0870\n",
      "Epoch 86/400\n",
      "4/4 [==============================] - 0s 12ms/step - loss: 0.0215 - val_loss: 0.0878\n",
      "Epoch 87/400\n",
      "4/4 [==============================] - 0s 12ms/step - loss: 0.0204 - val_loss: 0.0890\n",
      "Epoch 88/400\n",
      "4/4 [==============================] - 0s 9ms/step - loss: 0.0209 - val_loss: 0.0899\n",
      "Epoch 89/400\n",
      "4/4 [==============================] - 0s 12ms/step - loss: 0.0219 - val_loss: 0.0901\n",
      "Epoch 90/400\n",
      "4/4 [==============================] - 0s 11ms/step - loss: 0.0223 - val_loss: 0.0891\n",
      "Epoch 91/400\n",
      "4/4 [==============================] - 0s 20ms/step - loss: 0.0210 - val_loss: 0.0884\n",
      "Epoch 92/400\n",
      "4/4 [==============================] - 0s 10ms/step - loss: 0.0197 - val_loss: 0.0882\n",
      "Epoch 93/400\n",
      "4/4 [==============================] - 0s 10ms/step - loss: 0.0207 - val_loss: 0.0881\n",
      "Epoch 94/400\n",
      "4/4 [==============================] - 0s 12ms/step - loss: 0.0193 - val_loss: 0.0886\n",
      "Epoch 95/400\n",
      "4/4 [==============================] - 0s 9ms/step - loss: 0.0205 - val_loss: 0.0893\n",
      "Epoch 96/400\n",
      "4/4 [==============================] - 0s 12ms/step - loss: 0.0223 - val_loss: 0.0892\n",
      "Epoch 97/400\n",
      "4/4 [==============================] - 0s 12ms/step - loss: 0.0223 - val_loss: 0.0890\n",
      "Epoch 98/400\n",
      "4/4 [==============================] - 0s 10ms/step - loss: 0.0213 - val_loss: 0.0892\n",
      "Epoch 99/400\n",
      "4/4 [==============================] - 0s 13ms/step - loss: 0.0200 - val_loss: 0.0899\n",
      "Epoch 100/400\n",
      "4/4 [==============================] - 0s 9ms/step - loss: 0.0198 - val_loss: 0.0905\n",
      "Epoch 101/400\n",
      "4/4 [==============================] - 0s 13ms/step - loss: 0.0193 - val_loss: 0.0907\n",
      "Epoch 102/400\n",
      "4/4 [==============================] - 0s 13ms/step - loss: 0.0218 - val_loss: 0.0908\n",
      "Epoch 103/400\n",
      "4/4 [==============================] - 0s 11ms/step - loss: 0.0208 - val_loss: 0.0899\n",
      "Epoch 104/400\n",
      "4/4 [==============================] - 0s 12ms/step - loss: 0.0209 - val_loss: 0.0886\n",
      "Epoch 105/400\n",
      "4/4 [==============================] - 0s 9ms/step - loss: 0.0204 - val_loss: 0.0873\n",
      "Epoch 106/400\n",
      "4/4 [==============================] - 0s 13ms/step - loss: 0.0203 - val_loss: 0.0863\n",
      "Epoch 107/400\n",
      "4/4 [==============================] - 0s 11ms/step - loss: 0.0217 - val_loss: 0.0859\n",
      "Epoch 108/400\n",
      "4/4 [==============================] - 0s 12ms/step - loss: 0.0197 - val_loss: 0.0863\n",
      "Epoch 109/400\n",
      "4/4 [==============================] - 0s 12ms/step - loss: 0.0200 - val_loss: 0.0876\n",
      "Epoch 110/400\n",
      "4/4 [==============================] - 0s 11ms/step - loss: 0.0201 - val_loss: 0.0896\n",
      "Epoch 111/400\n",
      "4/4 [==============================] - 0s 12ms/step - loss: 0.0208 - val_loss: 0.0915\n",
      "Epoch 112/400\n",
      "4/4 [==============================] - 0s 10ms/step - loss: 0.0201 - val_loss: 0.0934\n",
      "Epoch 113/400\n",
      "4/4 [==============================] - 0s 12ms/step - loss: 0.0228 - val_loss: 0.0948\n",
      "Epoch 114/400\n",
      "4/4 [==============================] - 0s 10ms/step - loss: 0.0205 - val_loss: 0.0941\n",
      "Epoch 115/400\n",
      "4/4 [==============================] - 0s 13ms/step - loss: 0.0198 - val_loss: 0.0925\n",
      "Epoch 116/400\n",
      "4/4 [==============================] - 0s 11ms/step - loss: 0.0211 - val_loss: 0.0912\n",
      "Epoch 117/400\n",
      "4/4 [==============================] - 0s 15ms/step - loss: 0.0215 - val_loss: 0.0897\n",
      "Epoch 118/400\n",
      "4/4 [==============================] - 0s 12ms/step - loss: 0.0198 - val_loss: 0.0888\n",
      "Epoch 119/400\n",
      "4/4 [==============================] - 0s 13ms/step - loss: 0.0215 - val_loss: 0.0886\n",
      "Epoch 120/400\n",
      "4/4 [==============================] - 0s 14ms/step - loss: 0.0196 - val_loss: 0.0893\n",
      "Epoch 121/400\n",
      "4/4 [==============================] - 0s 15ms/step - loss: 0.0187 - val_loss: 0.0909\n",
      "Epoch 122/400\n",
      "4/4 [==============================] - 0s 9ms/step - loss: 0.0198 - val_loss: 0.0922\n",
      "Epoch 123/400\n",
      "4/4 [==============================] - 0s 9ms/step - loss: 0.0202 - val_loss: 0.0929\n",
      "Epoch 124/400\n",
      "4/4 [==============================] - 0s 9ms/step - loss: 0.0205 - val_loss: 0.0932\n",
      "Epoch 125/400\n",
      "4/4 [==============================] - 0s 11ms/step - loss: 0.0193 - val_loss: 0.0927\n",
      "Epoch 126/400\n",
      "4/4 [==============================] - 0s 9ms/step - loss: 0.0222 - val_loss: 0.0912\n",
      "Epoch 127/400\n",
      "4/4 [==============================] - 0s 11ms/step - loss: 0.0211 - val_loss: 0.0901\n",
      "Epoch 128/400\n",
      "4/4 [==============================] - 0s 10ms/step - loss: 0.0208 - val_loss: 0.0892\n",
      "Epoch 129/400\n",
      "4/4 [==============================] - 0s 9ms/step - loss: 0.0203 - val_loss: 0.0896\n",
      "Epoch 130/400\n",
      "4/4 [==============================] - 0s 9ms/step - loss: 0.0214 - val_loss: 0.0901\n",
      "Epoch 131/400\n",
      "4/4 [==============================] - 0s 11ms/step - loss: 0.0202 - val_loss: 0.0905\n",
      "Epoch 132/400\n",
      "4/4 [==============================] - 0s 11ms/step - loss: 0.0203 - val_loss: 0.0901\n",
      "Epoch 133/400\n",
      "4/4 [==============================] - 0s 11ms/step - loss: 0.0208 - val_loss: 0.0892\n",
      "Epoch 134/400\n",
      "4/4 [==============================] - 0s 12ms/step - loss: 0.0199 - val_loss: 0.0894\n",
      "Epoch 135/400\n",
      "4/4 [==============================] - 0s 10ms/step - loss: 0.0203 - val_loss: 0.0909\n",
      "Epoch 136/400\n",
      "4/4 [==============================] - 0s 10ms/step - loss: 0.0199 - val_loss: 0.0916\n",
      "Epoch 137/400\n",
      "4/4 [==============================] - 0s 10ms/step - loss: 0.0203 - val_loss: 0.0916\n",
      "Epoch 138/400\n",
      "4/4 [==============================] - 0s 10ms/step - loss: 0.0199 - val_loss: 0.0910\n",
      "Epoch 139/400\n",
      "4/4 [==============================] - 0s 11ms/step - loss: 0.0205 - val_loss: 0.0912\n",
      "Epoch 140/400\n",
      "4/4 [==============================] - 0s 13ms/step - loss: 0.0207 - val_loss: 0.0921\n",
      "Epoch 141/400\n",
      "4/4 [==============================] - 0s 12ms/step - loss: 0.0207 - val_loss: 0.0938\n",
      "Epoch 142/400\n",
      "4/4 [==============================] - 0s 10ms/step - loss: 0.0220 - val_loss: 0.0948\n",
      "Epoch 143/400\n",
      "4/4 [==============================] - 0s 11ms/step - loss: 0.0204 - val_loss: 0.0938\n",
      "Epoch 144/400\n",
      "4/4 [==============================] - 0s 12ms/step - loss: 0.0210 - val_loss: 0.0926\n",
      "Epoch 145/400\n",
      "4/4 [==============================] - 0s 11ms/step - loss: 0.0209 - val_loss: 0.0921\n",
      "Epoch 146/400\n",
      "4/4 [==============================] - 0s 13ms/step - loss: 0.0195 - val_loss: 0.0922\n",
      "Epoch 147/400\n",
      "4/4 [==============================] - 0s 11ms/step - loss: 0.0220 - val_loss: 0.0923\n",
      "Epoch 148/400\n",
      "4/4 [==============================] - 0s 10ms/step - loss: 0.0192 - val_loss: 0.0920\n",
      "Epoch 149/400\n",
      "4/4 [==============================] - 0s 11ms/step - loss: 0.0212 - val_loss: 0.0913\n",
      "Epoch 150/400\n",
      "4/4 [==============================] - 0s 9ms/step - loss: 0.0187 - val_loss: 0.0910\n",
      "Epoch 151/400\n",
      "4/4 [==============================] - 0s 11ms/step - loss: 0.0203 - val_loss: 0.0913\n",
      "Epoch 152/400\n",
      "4/4 [==============================] - 0s 11ms/step - loss: 0.0197 - val_loss: 0.0917\n",
      "Epoch 153/400\n",
      "4/4 [==============================] - 0s 10ms/step - loss: 0.0209 - val_loss: 0.0915\n",
      "Epoch 154/400\n",
      "4/4 [==============================] - 0s 13ms/step - loss: 0.0215 - val_loss: 0.0907\n",
      "Epoch 155/400\n",
      "4/4 [==============================] - 0s 14ms/step - loss: 0.0193 - val_loss: 0.0903\n",
      "Epoch 156/400\n",
      "4/4 [==============================] - 0s 12ms/step - loss: 0.0216 - val_loss: 0.0908\n",
      "Epoch 157/400\n",
      "4/4 [==============================] - 0s 12ms/step - loss: 0.0202 - val_loss: 0.0922\n",
      "Epoch 158/400\n",
      "4/4 [==============================] - 0s 10ms/step - loss: 0.0184 - val_loss: 0.0938\n",
      "Epoch 159/400\n",
      "4/4 [==============================] - 0s 10ms/step - loss: 0.0203 - val_loss: 0.0943\n",
      "Epoch 160/400\n",
      "4/4 [==============================] - 0s 11ms/step - loss: 0.0215 - val_loss: 0.0937\n",
      "Epoch 161/400\n",
      "4/4 [==============================] - 0s 10ms/step - loss: 0.0206 - val_loss: 0.0934\n",
      "Epoch 162/400\n",
      "4/4 [==============================] - 0s 13ms/step - loss: 0.0211 - val_loss: 0.0931\n",
      "Epoch 163/400\n",
      "4/4 [==============================] - 0s 13ms/step - loss: 0.0198 - val_loss: 0.0931\n",
      "Epoch 164/400\n",
      "4/4 [==============================] - 0s 10ms/step - loss: 0.0186 - val_loss: 0.0938\n",
      "Epoch 165/400\n",
      "4/4 [==============================] - 0s 10ms/step - loss: 0.0200 - val_loss: 0.0952\n",
      "Epoch 166/400\n"
     ]
    },
    {
     "name": "stdout",
     "output_type": "stream",
     "text": [
      "4/4 [==============================] - 0s 11ms/step - loss: 0.0190 - val_loss: 0.0961\n",
      "Epoch 167/400\n",
      "4/4 [==============================] - 0s 12ms/step - loss: 0.0206 - val_loss: 0.0955\n",
      "Epoch 168/400\n",
      "4/4 [==============================] - 0s 10ms/step - loss: 0.0189 - val_loss: 0.0930\n",
      "Epoch 169/400\n",
      "4/4 [==============================] - 0s 10ms/step - loss: 0.0201 - val_loss: 0.0909\n",
      "Epoch 170/400\n",
      "4/4 [==============================] - 0s 11ms/step - loss: 0.0197 - val_loss: 0.0904\n",
      "Epoch 171/400\n",
      "4/4 [==============================] - 0s 10ms/step - loss: 0.0205 - val_loss: 0.0904\n",
      "Epoch 172/400\n",
      "4/4 [==============================] - 0s 9ms/step - loss: 0.0202 - val_loss: 0.0909\n",
      "Epoch 173/400\n",
      "4/4 [==============================] - 0s 11ms/step - loss: 0.0201 - val_loss: 0.0914\n",
      "Epoch 174/400\n",
      "4/4 [==============================] - 0s 10ms/step - loss: 0.0213 - val_loss: 0.0923\n",
      "Epoch 175/400\n",
      "4/4 [==============================] - 0s 10ms/step - loss: 0.0196 - val_loss: 0.0926\n",
      "Epoch 176/400\n",
      "4/4 [==============================] - 0s 11ms/step - loss: 0.0192 - val_loss: 0.0925\n",
      "Epoch 177/400\n",
      "4/4 [==============================] - 0s 10ms/step - loss: 0.0196 - val_loss: 0.0922\n",
      "Epoch 178/400\n",
      "4/4 [==============================] - 0s 11ms/step - loss: 0.0197 - val_loss: 0.0926\n",
      "Epoch 179/400\n",
      "4/4 [==============================] - 0s 10ms/step - loss: 0.0194 - val_loss: 0.0932\n",
      "Epoch 180/400\n",
      "4/4 [==============================] - 0s 11ms/step - loss: 0.0193 - val_loss: 0.0937\n",
      "Epoch 181/400\n",
      "4/4 [==============================] - 0s 11ms/step - loss: 0.0202 - val_loss: 0.0951\n",
      "Epoch 182/400\n",
      "4/4 [==============================] - 0s 10ms/step - loss: 0.0206 - val_loss: 0.0961\n",
      "Epoch 183/400\n",
      "4/4 [==============================] - 0s 9ms/step - loss: 0.0191 - val_loss: 0.0954\n",
      "Epoch 184/400\n",
      "4/4 [==============================] - 0s 10ms/step - loss: 0.0190 - val_loss: 0.0940\n",
      "Epoch 185/400\n",
      "4/4 [==============================] - 0s 11ms/step - loss: 0.0197 - val_loss: 0.0933\n",
      "Epoch 186/400\n",
      "4/4 [==============================] - 0s 12ms/step - loss: 0.0192 - val_loss: 0.0937\n",
      "Epoch 187/400\n",
      "4/4 [==============================] - 0s 10ms/step - loss: 0.0205 - val_loss: 0.0936\n",
      "Epoch 188/400\n",
      "4/4 [==============================] - 0s 9ms/step - loss: 0.0205 - val_loss: 0.0930\n",
      "Epoch 189/400\n",
      "4/4 [==============================] - 0s 11ms/step - loss: 0.0200 - val_loss: 0.0916\n",
      "Epoch 190/400\n",
      "4/4 [==============================] - 0s 11ms/step - loss: 0.0202 - val_loss: 0.0904\n",
      "Epoch 191/400\n",
      "4/4 [==============================] - 0s 10ms/step - loss: 0.0212 - val_loss: 0.0898\n",
      "Epoch 192/400\n",
      "4/4 [==============================] - 0s 10ms/step - loss: 0.0190 - val_loss: 0.0904\n",
      "Epoch 193/400\n",
      "4/4 [==============================] - 0s 9ms/step - loss: 0.0205 - val_loss: 0.0913\n",
      "Epoch 194/400\n",
      "4/4 [==============================] - 0s 10ms/step - loss: 0.0206 - val_loss: 0.0920\n",
      "Epoch 195/400\n",
      "4/4 [==============================] - 0s 11ms/step - loss: 0.0209 - val_loss: 0.0913\n",
      "Epoch 196/400\n",
      "4/4 [==============================] - 0s 9ms/step - loss: 0.0193 - val_loss: 0.0895\n",
      "Epoch 197/400\n",
      "4/4 [==============================] - 0s 9ms/step - loss: 0.0204 - val_loss: 0.0876\n",
      "Epoch 198/400\n",
      "4/4 [==============================] - 0s 11ms/step - loss: 0.0187 - val_loss: 0.0870\n",
      "Epoch 199/400\n",
      "4/4 [==============================] - 0s 9ms/step - loss: 0.0208 - val_loss: 0.0878\n",
      "Epoch 200/400\n",
      "4/4 [==============================] - 0s 9ms/step - loss: 0.0204 - val_loss: 0.0901\n",
      "Epoch 201/400\n",
      "4/4 [==============================] - 0s 10ms/step - loss: 0.0206 - val_loss: 0.0929\n",
      "Epoch 202/400\n",
      "4/4 [==============================] - 0s 10ms/step - loss: 0.0204 - val_loss: 0.0948\n",
      "Epoch 203/400\n",
      "4/4 [==============================] - 0s 9ms/step - loss: 0.0182 - val_loss: 0.0955\n",
      "Epoch 204/400\n",
      "4/4 [==============================] - 0s 10ms/step - loss: 0.0188 - val_loss: 0.0948\n",
      "Epoch 205/400\n",
      "4/4 [==============================] - 0s 10ms/step - loss: 0.0201 - val_loss: 0.0939\n",
      "Epoch 206/400\n",
      "4/4 [==============================] - 0s 9ms/step - loss: 0.0187 - val_loss: 0.0925\n",
      "Epoch 207/400\n",
      "4/4 [==============================] - 0s 10ms/step - loss: 0.0187 - val_loss: 0.0922\n",
      "Epoch 208/400\n",
      "4/4 [==============================] - 0s 11ms/step - loss: 0.0193 - val_loss: 0.0923\n",
      "Epoch 209/400\n",
      "4/4 [==============================] - 0s 16ms/step - loss: 0.0208 - val_loss: 0.0932\n",
      "Epoch 210/400\n",
      "4/4 [==============================] - 0s 12ms/step - loss: 0.0198 - val_loss: 0.0946\n",
      "Epoch 211/400\n",
      "4/4 [==============================] - 0s 9ms/step - loss: 0.0212 - val_loss: 0.0939\n",
      "Epoch 212/400\n",
      "4/4 [==============================] - 0s 9ms/step - loss: 0.0212 - val_loss: 0.0930\n",
      "Epoch 213/400\n",
      "4/4 [==============================] - 0s 10ms/step - loss: 0.0204 - val_loss: 0.0927\n",
      "Epoch 214/400\n",
      "4/4 [==============================] - 0s 11ms/step - loss: 0.0204 - val_loss: 0.0913\n",
      "Epoch 215/400\n",
      "4/4 [==============================] - 0s 10ms/step - loss: 0.0192 - val_loss: 0.0895\n",
      "Epoch 216/400\n",
      "4/4 [==============================] - 0s 10ms/step - loss: 0.0206 - val_loss: 0.0885\n",
      "Epoch 217/400\n",
      "4/4 [==============================] - 0s 11ms/step - loss: 0.0186 - val_loss: 0.0874\n",
      "Epoch 218/400\n",
      "4/4 [==============================] - 0s 11ms/step - loss: 0.0188 - val_loss: 0.0875\n",
      "Epoch 219/400\n",
      "4/4 [==============================] - 0s 11ms/step - loss: 0.0199 - val_loss: 0.0882\n",
      "Epoch 220/400\n",
      "4/4 [==============================] - 0s 11ms/step - loss: 0.0183 - val_loss: 0.0887\n",
      "Epoch 221/400\n",
      "4/4 [==============================] - 0s 10ms/step - loss: 0.0190 - val_loss: 0.0887\n",
      "Epoch 222/400\n",
      "4/4 [==============================] - 0s 10ms/step - loss: 0.0206 - val_loss: 0.0896\n",
      "Epoch 223/400\n",
      "4/4 [==============================] - 0s 10ms/step - loss: 0.0198 - val_loss: 0.0908\n",
      "Epoch 224/400\n",
      "4/4 [==============================] - 0s 10ms/step - loss: 0.0187 - val_loss: 0.0923\n",
      "Epoch 225/400\n",
      "4/4 [==============================] - 0s 10ms/step - loss: 0.0199 - val_loss: 0.0933\n",
      "Epoch 226/400\n",
      "4/4 [==============================] - 0s 11ms/step - loss: 0.0199 - val_loss: 0.0927\n",
      "Epoch 227/400\n",
      "4/4 [==============================] - 0s 11ms/step - loss: 0.0214 - val_loss: 0.0912\n",
      "Epoch 228/400\n",
      "4/4 [==============================] - 0s 10ms/step - loss: 0.0194 - val_loss: 0.0894\n",
      "Epoch 229/400\n",
      "4/4 [==============================] - 0s 10ms/step - loss: 0.0193 - val_loss: 0.0888\n",
      "Epoch 230/400\n",
      "4/4 [==============================] - 0s 10ms/step - loss: 0.0197 - val_loss: 0.0880\n",
      "Epoch 231/400\n",
      "4/4 [==============================] - 0s 10ms/step - loss: 0.0208 - val_loss: 0.0868\n",
      "Epoch 232/400\n",
      "4/4 [==============================] - 0s 10ms/step - loss: 0.0190 - val_loss: 0.0875\n",
      "Epoch 233/400\n",
      "4/4 [==============================] - 0s 9ms/step - loss: 0.0197 - val_loss: 0.0886\n",
      "Epoch 234/400\n",
      "4/4 [==============================] - 0s 10ms/step - loss: 0.0208 - val_loss: 0.0890\n",
      "Epoch 235/400\n",
      "4/4 [==============================] - 0s 11ms/step - loss: 0.0194 - val_loss: 0.0896\n",
      "Epoch 236/400\n",
      "4/4 [==============================] - 0s 11ms/step - loss: 0.0188 - val_loss: 0.0897\n",
      "Epoch 237/400\n",
      "4/4 [==============================] - 0s 9ms/step - loss: 0.0200 - val_loss: 0.0894\n",
      "Epoch 238/400\n",
      "4/4 [==============================] - 0s 10ms/step - loss: 0.0208 - val_loss: 0.0878\n",
      "Epoch 239/400\n",
      "4/4 [==============================] - 0s 11ms/step - loss: 0.0195 - val_loss: 0.0872\n",
      "Epoch 240/400\n",
      "4/4 [==============================] - 0s 9ms/step - loss: 0.0196 - val_loss: 0.0876\n",
      "Epoch 241/400\n",
      "4/4 [==============================] - 0s 11ms/step - loss: 0.0195 - val_loss: 0.0884\n",
      "Epoch 242/400\n",
      "4/4 [==============================] - 0s 11ms/step - loss: 0.0198 - val_loss: 0.0899\n",
      "Epoch 243/400\n",
      "4/4 [==============================] - 0s 10ms/step - loss: 0.0205 - val_loss: 0.0929\n",
      "Epoch 244/400\n",
      "4/4 [==============================] - 0s 11ms/step - loss: 0.0175 - val_loss: 0.0937\n",
      "Epoch 245/400\n",
      "4/4 [==============================] - 0s 10ms/step - loss: 0.0187 - val_loss: 0.0919\n",
      "Epoch 246/400\n",
      "4/4 [==============================] - 0s 10ms/step - loss: 0.0184 - val_loss: 0.0905\n",
      "Epoch 247/400\n",
      "4/4 [==============================] - 0s 9ms/step - loss: 0.0192 - val_loss: 0.0904\n",
      "Epoch 248/400\n"
     ]
    },
    {
     "name": "stdout",
     "output_type": "stream",
     "text": [
      "4/4 [==============================] - 0s 11ms/step - loss: 0.0196 - val_loss: 0.0905\n",
      "Epoch 249/400\n",
      "4/4 [==============================] - 0s 11ms/step - loss: 0.0186 - val_loss: 0.0896\n",
      "Epoch 250/400\n",
      "4/4 [==============================] - 0s 10ms/step - loss: 0.0204 - val_loss: 0.0891\n",
      "Epoch 251/400\n",
      "4/4 [==============================] - 0s 9ms/step - loss: 0.0195 - val_loss: 0.0896\n",
      "Epoch 252/400\n",
      "4/4 [==============================] - 0s 10ms/step - loss: 0.0188 - val_loss: 0.0898\n",
      "Epoch 253/400\n",
      "4/4 [==============================] - 0s 11ms/step - loss: 0.0197 - val_loss: 0.0901\n",
      "Epoch 254/400\n",
      "4/4 [==============================] - 0s 10ms/step - loss: 0.0197 - val_loss: 0.0896\n",
      "Epoch 255/400\n",
      "4/4 [==============================] - 0s 11ms/step - loss: 0.0179 - val_loss: 0.0898\n",
      "Epoch 256/400\n",
      "4/4 [==============================] - 0s 10ms/step - loss: 0.0203 - val_loss: 0.0895\n",
      "Epoch 257/400\n",
      "4/4 [==============================] - 0s 10ms/step - loss: 0.0182 - val_loss: 0.0893\n",
      "Epoch 258/400\n",
      "4/4 [==============================] - 0s 9ms/step - loss: 0.0195 - val_loss: 0.0896\n",
      "Epoch 259/400\n",
      "4/4 [==============================] - 0s 10ms/step - loss: 0.0206 - val_loss: 0.0902\n",
      "Epoch 260/400\n",
      "4/4 [==============================] - 0s 10ms/step - loss: 0.0203 - val_loss: 0.0920\n",
      "Epoch 261/400\n",
      "4/4 [==============================] - 0s 10ms/step - loss: 0.0182 - val_loss: 0.0933\n",
      "Epoch 262/400\n",
      "4/4 [==============================] - 0s 10ms/step - loss: 0.0177 - val_loss: 0.0929\n",
      "Epoch 263/400\n",
      "4/4 [==============================] - 0s 10ms/step - loss: 0.0195 - val_loss: 0.0902\n",
      "Epoch 264/400\n",
      "4/4 [==============================] - 0s 10ms/step - loss: 0.0200 - val_loss: 0.0898\n",
      "Epoch 265/400\n",
      "4/4 [==============================] - 0s 9ms/step - loss: 0.0204 - val_loss: 0.0896\n",
      "Epoch 266/400\n",
      "4/4 [==============================] - 0s 11ms/step - loss: 0.0187 - val_loss: 0.0878\n",
      "Epoch 267/400\n",
      "4/4 [==============================] - 0s 11ms/step - loss: 0.0175 - val_loss: 0.0856\n",
      "Epoch 268/400\n",
      "4/4 [==============================] - 0s 10ms/step - loss: 0.0181 - val_loss: 0.0844\n",
      "Epoch 269/400\n",
      "4/4 [==============================] - 0s 9ms/step - loss: 0.0189 - val_loss: 0.0832\n",
      "Epoch 270/400\n",
      "4/4 [==============================] - 0s 10ms/step - loss: 0.0189 - val_loss: 0.0824\n",
      "Epoch 271/400\n",
      "4/4 [==============================] - 0s 10ms/step - loss: 0.0182 - val_loss: 0.0839\n",
      "Epoch 272/400\n",
      "4/4 [==============================] - 0s 10ms/step - loss: 0.0194 - val_loss: 0.0865\n",
      "Epoch 273/400\n",
      "4/4 [==============================] - 0s 10ms/step - loss: 0.0174 - val_loss: 0.0890\n",
      "Epoch 274/400\n",
      "4/4 [==============================] - 0s 10ms/step - loss: 0.0194 - val_loss: 0.0896\n",
      "Epoch 275/400\n",
      "4/4 [==============================] - 0s 11ms/step - loss: 0.0190 - val_loss: 0.0898\n",
      "Epoch 276/400\n",
      "4/4 [==============================] - 0s 9ms/step - loss: 0.0172 - val_loss: 0.0897\n",
      "Epoch 277/400\n",
      "4/4 [==============================] - 0s 11ms/step - loss: 0.0169 - val_loss: 0.0885\n",
      "Epoch 278/400\n",
      "4/4 [==============================] - 0s 11ms/step - loss: 0.0197 - val_loss: 0.0883\n",
      "Epoch 279/400\n",
      "4/4 [==============================] - 0s 10ms/step - loss: 0.0190 - val_loss: 0.0878\n",
      "Epoch 280/400\n",
      "4/4 [==============================] - 0s 10ms/step - loss: 0.0190 - val_loss: 0.0879\n",
      "Epoch 281/400\n",
      "4/4 [==============================] - 0s 9ms/step - loss: 0.0173 - val_loss: 0.0879\n",
      "Epoch 282/400\n",
      "4/4 [==============================] - 0s 10ms/step - loss: 0.0185 - val_loss: 0.0885\n",
      "Epoch 283/400\n",
      "4/4 [==============================] - 0s 11ms/step - loss: 0.0195 - val_loss: 0.0894\n",
      "Epoch 284/400\n",
      "4/4 [==============================] - 0s 10ms/step - loss: 0.0191 - val_loss: 0.0896\n",
      "Epoch 285/400\n",
      "4/4 [==============================] - 0s 10ms/step - loss: 0.0191 - val_loss: 0.0885\n",
      "Epoch 286/400\n",
      "4/4 [==============================] - 0s 10ms/step - loss: 0.0186 - val_loss: 0.0870\n",
      "Epoch 287/400\n",
      "4/4 [==============================] - 0s 10ms/step - loss: 0.0181 - val_loss: 0.0876\n",
      "Epoch 288/400\n",
      "4/4 [==============================] - 0s 11ms/step - loss: 0.0182 - val_loss: 0.0893\n",
      "Epoch 289/400\n",
      "4/4 [==============================] - 0s 10ms/step - loss: 0.0185 - val_loss: 0.0909\n",
      "Epoch 290/400\n",
      "4/4 [==============================] - 0s 9ms/step - loss: 0.0192 - val_loss: 0.0914\n",
      "Epoch 291/400\n",
      "4/4 [==============================] - 0s 9ms/step - loss: 0.0181 - val_loss: 0.0914\n",
      "Epoch 292/400\n",
      "4/4 [==============================] - 0s 9ms/step - loss: 0.0188 - val_loss: 0.0898\n",
      "Epoch 293/400\n",
      "4/4 [==============================] - 0s 10ms/step - loss: 0.0198 - val_loss: 0.0892\n",
      "Epoch 294/400\n",
      "4/4 [==============================] - 0s 10ms/step - loss: 0.0179 - val_loss: 0.0891\n",
      "Epoch 295/400\n",
      "4/4 [==============================] - 0s 10ms/step - loss: 0.0176 - val_loss: 0.0879\n",
      "Epoch 296/400\n",
      "4/4 [==============================] - 0s 10ms/step - loss: 0.0189 - val_loss: 0.0893\n",
      "Epoch 297/400\n",
      "4/4 [==============================] - 0s 9ms/step - loss: 0.0195 - val_loss: 0.0908\n",
      "Epoch 298/400\n",
      "4/4 [==============================] - 0s 11ms/step - loss: 0.0169 - val_loss: 0.0908\n",
      "Epoch 299/400\n",
      "4/4 [==============================] - 0s 10ms/step - loss: 0.0194 - val_loss: 0.0898\n",
      "Epoch 300/400\n",
      "4/4 [==============================] - 0s 10ms/step - loss: 0.0188 - val_loss: 0.0872\n",
      "Epoch 301/400\n",
      "4/4 [==============================] - 0s 11ms/step - loss: 0.0170 - val_loss: 0.0839\n",
      "Epoch 302/400\n",
      "4/4 [==============================] - 0s 10ms/step - loss: 0.0180 - val_loss: 0.0837\n",
      "Epoch 303/400\n",
      "4/4 [==============================] - 0s 10ms/step - loss: 0.0182 - val_loss: 0.0870\n",
      "Epoch 304/400\n",
      "4/4 [==============================] - 0s 9ms/step - loss: 0.0191 - val_loss: 0.0901\n",
      "Epoch 305/400\n",
      "4/4 [==============================] - 0s 10ms/step - loss: 0.0190 - val_loss: 0.0911\n",
      "Epoch 306/400\n",
      "4/4 [==============================] - 0s 10ms/step - loss: 0.0185 - val_loss: 0.0901\n",
      "Epoch 307/400\n",
      "4/4 [==============================] - 0s 11ms/step - loss: 0.0170 - val_loss: 0.0882\n",
      "Epoch 308/400\n",
      "4/4 [==============================] - 0s 10ms/step - loss: 0.0181 - val_loss: 0.0883\n",
      "Epoch 309/400\n",
      "4/4 [==============================] - 0s 9ms/step - loss: 0.0184 - val_loss: 0.0888\n",
      "Epoch 310/400\n",
      "4/4 [==============================] - 0s 9ms/step - loss: 0.0170 - val_loss: 0.0885\n",
      "Epoch 311/400\n",
      "4/4 [==============================] - 0s 9ms/step - loss: 0.0198 - val_loss: 0.0888\n",
      "Epoch 312/400\n",
      "4/4 [==============================] - 0s 9ms/step - loss: 0.0192 - val_loss: 0.0896\n",
      "Epoch 313/400\n",
      "4/4 [==============================] - 0s 9ms/step - loss: 0.0180 - val_loss: 0.0901\n",
      "Epoch 314/400\n",
      "4/4 [==============================] - 0s 10ms/step - loss: 0.0201 - val_loss: 0.0901\n",
      "Epoch 315/400\n",
      "4/4 [==============================] - 0s 11ms/step - loss: 0.0192 - val_loss: 0.0893\n",
      "Epoch 316/400\n",
      "4/4 [==============================] - 0s 10ms/step - loss: 0.0187 - val_loss: 0.0898\n",
      "Epoch 317/400\n",
      "4/4 [==============================] - 0s 9ms/step - loss: 0.0199 - val_loss: 0.0903\n",
      "Epoch 318/400\n",
      "4/4 [==============================] - 0s 11ms/step - loss: 0.0181 - val_loss: 0.0911\n",
      "Epoch 319/400\n",
      "4/4 [==============================] - 0s 10ms/step - loss: 0.0188 - val_loss: 0.0905\n",
      "Epoch 320/400\n",
      "4/4 [==============================] - 0s 11ms/step - loss: 0.0193 - val_loss: 0.0906\n",
      "Epoch 321/400\n",
      "4/4 [==============================] - 0s 11ms/step - loss: 0.0181 - val_loss: 0.0890\n",
      "Epoch 322/400\n",
      "4/4 [==============================] - 0s 11ms/step - loss: 0.0176 - val_loss: 0.0862\n",
      "Epoch 323/400\n",
      "4/4 [==============================] - 0s 9ms/step - loss: 0.0174 - val_loss: 0.0860\n",
      "Epoch 324/400\n",
      "4/4 [==============================] - 0s 11ms/step - loss: 0.0164 - val_loss: 0.0876\n",
      "Epoch 325/400\n",
      "4/4 [==============================] - 0s 11ms/step - loss: 0.0192 - val_loss: 0.0877\n",
      "Epoch 326/400\n",
      "4/4 [==============================] - 0s 11ms/step - loss: 0.0192 - val_loss: 0.0878\n",
      "Epoch 327/400\n",
      "4/4 [==============================] - 0s 10ms/step - loss: 0.0204 - val_loss: 0.0876\n",
      "Epoch 328/400\n",
      "4/4 [==============================] - 0s 9ms/step - loss: 0.0185 - val_loss: 0.0867\n",
      "Epoch 329/400\n",
      "4/4 [==============================] - 0s 10ms/step - loss: 0.0183 - val_loss: 0.0875\n",
      "Epoch 330/400\n"
     ]
    },
    {
     "name": "stdout",
     "output_type": "stream",
     "text": [
      "4/4 [==============================] - 0s 11ms/step - loss: 0.0174 - val_loss: 0.0891\n",
      "Epoch 331/400\n",
      "4/4 [==============================] - 0s 10ms/step - loss: 0.0182 - val_loss: 0.0884\n",
      "Epoch 332/400\n",
      "4/4 [==============================] - 0s 10ms/step - loss: 0.0183 - val_loss: 0.0874\n",
      "Epoch 333/400\n",
      "4/4 [==============================] - 0s 11ms/step - loss: 0.0196 - val_loss: 0.0867\n",
      "Epoch 334/400\n",
      "4/4 [==============================] - 0s 11ms/step - loss: 0.0183 - val_loss: 0.0867\n",
      "Epoch 335/400\n",
      "4/4 [==============================] - 0s 9ms/step - loss: 0.0195 - val_loss: 0.0871\n",
      "Epoch 336/400\n",
      "4/4 [==============================] - 0s 10ms/step - loss: 0.0187 - val_loss: 0.0893\n",
      "Epoch 337/400\n",
      "4/4 [==============================] - 0s 11ms/step - loss: 0.0180 - val_loss: 0.0885\n",
      "Epoch 338/400\n",
      "4/4 [==============================] - 0s 10ms/step - loss: 0.0174 - val_loss: 0.0885\n",
      "Epoch 339/400\n",
      "4/4 [==============================] - 0s 11ms/step - loss: 0.0175 - val_loss: 0.0910\n",
      "Epoch 340/400\n",
      "4/4 [==============================] - 0s 10ms/step - loss: 0.0183 - val_loss: 0.0934\n",
      "Epoch 341/400\n",
      "4/4 [==============================] - 0s 9ms/step - loss: 0.0189 - val_loss: 0.0912\n",
      "Epoch 342/400\n",
      "4/4 [==============================] - 0s 12ms/step - loss: 0.0167 - val_loss: 0.0866\n",
      "Epoch 343/400\n",
      "4/4 [==============================] - 0s 11ms/step - loss: 0.0170 - val_loss: 0.0844\n",
      "Epoch 344/400\n",
      "4/4 [==============================] - 0s 9ms/step - loss: 0.0190 - val_loss: 0.0867\n",
      "Epoch 345/400\n",
      "4/4 [==============================] - 0s 10ms/step - loss: 0.0167 - val_loss: 0.0893\n",
      "Epoch 346/400\n",
      "4/4 [==============================] - 0s 10ms/step - loss: 0.0162 - val_loss: 0.0910\n",
      "Epoch 347/400\n",
      "4/4 [==============================] - 0s 10ms/step - loss: 0.0176 - val_loss: 0.0916\n",
      "Epoch 348/400\n",
      "4/4 [==============================] - 0s 11ms/step - loss: 0.0194 - val_loss: 0.0904\n",
      "Epoch 349/400\n",
      "4/4 [==============================] - 0s 10ms/step - loss: 0.0171 - val_loss: 0.0882\n",
      "Epoch 350/400\n",
      "4/4 [==============================] - 0s 10ms/step - loss: 0.0176 - val_loss: 0.0893\n",
      "Epoch 351/400\n",
      "4/4 [==============================] - 0s 9ms/step - loss: 0.0180 - val_loss: 0.0893\n",
      "Epoch 352/400\n",
      "4/4 [==============================] - 0s 11ms/step - loss: 0.0176 - val_loss: 0.0895\n",
      "Epoch 353/400\n",
      "4/4 [==============================] - 0s 11ms/step - loss: 0.0173 - val_loss: 0.0887\n",
      "Epoch 354/400\n",
      "4/4 [==============================] - 0s 11ms/step - loss: 0.0174 - val_loss: 0.0873\n",
      "Epoch 355/400\n",
      "4/4 [==============================] - 0s 10ms/step - loss: 0.0176 - val_loss: 0.0877\n",
      "Epoch 356/400\n",
      "4/4 [==============================] - 0s 9ms/step - loss: 0.0199 - val_loss: 0.0892\n",
      "Epoch 357/400\n",
      "4/4 [==============================] - 0s 10ms/step - loss: 0.0183 - val_loss: 0.0908\n",
      "Epoch 358/400\n",
      "4/4 [==============================] - 0s 10ms/step - loss: 0.0185 - val_loss: 0.0905\n",
      "Epoch 359/400\n",
      "4/4 [==============================] - 0s 10ms/step - loss: 0.0190 - val_loss: 0.0913\n",
      "Epoch 360/400\n",
      "4/4 [==============================] - 0s 10ms/step - loss: 0.0183 - val_loss: 0.0929\n",
      "Epoch 361/400\n",
      "4/4 [==============================] - 0s 11ms/step - loss: 0.0182 - val_loss: 0.0910\n",
      "Epoch 362/400\n",
      "4/4 [==============================] - 0s 10ms/step - loss: 0.0181 - val_loss: 0.0882\n",
      "Epoch 363/400\n",
      "4/4 [==============================] - 0s 9ms/step - loss: 0.0195 - val_loss: 0.0883\n",
      "Epoch 364/400\n",
      "4/4 [==============================] - 0s 10ms/step - loss: 0.0182 - val_loss: 0.0902\n",
      "Epoch 365/400\n",
      "4/4 [==============================] - 0s 10ms/step - loss: 0.0200 - val_loss: 0.0914\n",
      "Epoch 366/400\n",
      "4/4 [==============================] - 0s 10ms/step - loss: 0.0187 - val_loss: 0.0893\n",
      "Epoch 367/400\n",
      "4/4 [==============================] - 0s 10ms/step - loss: 0.0196 - val_loss: 0.0859\n",
      "Epoch 368/400\n",
      "4/4 [==============================] - 0s 9ms/step - loss: 0.0177 - val_loss: 0.0841\n",
      "Epoch 369/400\n",
      "4/4 [==============================] - 0s 11ms/step - loss: 0.0189 - val_loss: 0.0838\n",
      "Epoch 370/400\n",
      "4/4 [==============================] - 0s 11ms/step - loss: 0.0176 - val_loss: 0.0849\n",
      "Epoch 371/400\n",
      "4/4 [==============================] - 0s 12ms/step - loss: 0.0183 - val_loss: 0.0888\n",
      "Epoch 372/400\n",
      "4/4 [==============================] - 0s 10ms/step - loss: 0.0188 - val_loss: 0.0910\n",
      "Epoch 373/400\n",
      "4/4 [==============================] - 0s 9ms/step - loss: 0.0170 - val_loss: 0.0914\n",
      "Epoch 374/400\n",
      "4/4 [==============================] - 0s 11ms/step - loss: 0.0177 - val_loss: 0.0893\n",
      "Epoch 375/400\n",
      "4/4 [==============================] - 0s 11ms/step - loss: 0.0170 - val_loss: 0.0892\n",
      "Epoch 376/400\n",
      "4/4 [==============================] - 0s 10ms/step - loss: 0.0188 - val_loss: 0.0883\n",
      "Epoch 377/400\n",
      "4/4 [==============================] - 0s 10ms/step - loss: 0.0184 - val_loss: 0.0876\n",
      "Epoch 378/400\n",
      "4/4 [==============================] - 0s 11ms/step - loss: 0.0169 - val_loss: 0.0883\n",
      "Epoch 379/400\n",
      "4/4 [==============================] - 0s 10ms/step - loss: 0.0179 - val_loss: 0.0874\n",
      "Epoch 380/400\n",
      "4/4 [==============================] - 0s 11ms/step - loss: 0.0184 - val_loss: 0.0871\n",
      "Epoch 381/400\n",
      "4/4 [==============================] - 0s 10ms/step - loss: 0.0179 - val_loss: 0.0875\n",
      "Epoch 382/400\n",
      "4/4 [==============================] - 0s 10ms/step - loss: 0.0180 - val_loss: 0.0881\n",
      "Epoch 383/400\n",
      "4/4 [==============================] - 0s 9ms/step - loss: 0.0165 - val_loss: 0.0893\n",
      "Epoch 384/400\n",
      "4/4 [==============================] - 0s 10ms/step - loss: 0.0166 - val_loss: 0.0891\n",
      "Epoch 385/400\n",
      "4/4 [==============================] - 0s 11ms/step - loss: 0.0173 - val_loss: 0.0868\n",
      "Epoch 386/400\n",
      "4/4 [==============================] - 0s 11ms/step - loss: 0.0175 - val_loss: 0.0849\n",
      "Epoch 387/400\n",
      "4/4 [==============================] - 0s 10ms/step - loss: 0.0193 - val_loss: 0.0849\n",
      "Epoch 388/400\n",
      "4/4 [==============================] - 0s 9ms/step - loss: 0.0170 - val_loss: 0.0871\n",
      "Epoch 389/400\n",
      "4/4 [==============================] - 0s 10ms/step - loss: 0.0180 - val_loss: 0.0907\n",
      "Epoch 390/400\n",
      "4/4 [==============================] - 0s 11ms/step - loss: 0.0185 - val_loss: 0.0920\n",
      "Epoch 391/400\n",
      "4/4 [==============================] - 0s 10ms/step - loss: 0.0185 - val_loss: 0.0902\n",
      "Epoch 392/400\n",
      "4/4 [==============================] - 0s 12ms/step - loss: 0.0188 - val_loss: 0.0868\n",
      "Epoch 393/400\n",
      "4/4 [==============================] - 0s 10ms/step - loss: 0.0168 - val_loss: 0.0824\n",
      "Epoch 394/400\n",
      "4/4 [==============================] - 0s 10ms/step - loss: 0.0167 - val_loss: 0.0797\n",
      "Epoch 395/400\n",
      "4/4 [==============================] - 0s 9ms/step - loss: 0.0172 - val_loss: 0.0795\n",
      "Epoch 396/400\n",
      "4/4 [==============================] - 0s 10ms/step - loss: 0.0164 - val_loss: 0.0839\n",
      "Epoch 397/400\n",
      "4/4 [==============================] - 0s 10ms/step - loss: 0.0167 - val_loss: 0.0886\n",
      "Epoch 398/400\n",
      "4/4 [==============================] - 0s 10ms/step - loss: 0.0187 - val_loss: 0.0923\n",
      "Epoch 399/400\n",
      "4/4 [==============================] - 0s 9ms/step - loss: 0.0176 - val_loss: 0.0942\n",
      "Epoch 400/400\n",
      "4/4 [==============================] - 0s 11ms/step - loss: 0.0180 - val_loss: 0.0926\n"
     ]
    }
   ],
   "source": [
    "history = model.fit(x_train,y_train,\n",
    "                   epochs=400,\n",
    "                   batch_size=32,\n",
    "                   validation_split=0.1,\n",
    "                   shuffle=False \n",
    "                   )"
   ]
  },
  {
   "cell_type": "code",
   "execution_count": 45,
   "metadata": {},
   "outputs": [
    {
     "data": {
      "text/plain": [
       "<matplotlib.legend.Legend at 0x163360b5df0>"
      ]
     },
     "execution_count": 45,
     "metadata": {},
     "output_type": "execute_result"
    },
    {
     "data": {
      "image/png": "[encoded data removed]",
      "text/plain": [
       "<Figure size 432x288 with 1 Axes>"
      ]
     },
     "metadata": {
      "needs_background": "light"
     },
     "output_type": "display_data"
    }
   ],
   "source": [
    "plt.plot(history.history['loss'],label='train')\n",
    "plt.plot(history.history['val_loss'],label='test')\n",
    "plt.legend()"
   ]
  },
  {
   "cell_type": "code",
   "execution_count": 46,
   "metadata": {},
   "outputs": [
    {
     "data": {
      "text/plain": [
       "array([[[ 1.03030303,  0.83333333,  0.66666667]],\n",
       "\n",
       "       [[ 0.75757576,  0.83333333,  0.83333333]],\n",
       "\n",
       "       [[ 1.01818182,  0.83333333,  1.        ]],\n",
       "\n",
       "       [[ 1.09090909,  1.        , -0.83333333]],\n",
       "\n",
       "       [[ 0.93333333,  1.        , -0.66666667]],\n",
       "\n",
       "       [[ 1.1030303 ,  1.        , -0.5       ]],\n",
       "\n",
       "       [[ 1.35757576,  1.        , -0.33333333]],\n",
       "\n",
       "       [[ 1.42424242,  1.        , -0.16666667]],\n",
       "\n",
       "       [[ 1.80606061,  1.        ,  0.        ]],\n",
       "\n",
       "       [[ 2.33333333,  1.        ,  0.16666667]],\n",
       "\n",
       "       [[ 2.23636364,  1.        ,  0.33333333]],\n",
       "\n",
       "       [[ 1.64242424,  1.        ,  0.5       ]],\n",
       "\n",
       "       [[ 1.35757576,  1.        ,  0.66666667]],\n",
       "\n",
       "       [[ 0.92727273,  1.        ,  0.83333333]]])"
      ]
     },
     "execution_count": 46,
     "metadata": {},
     "output_type": "execute_result"
    }
   ],
   "source": [
    "x_test"
   ]
  },
  {
   "cell_type": "code",
   "execution_count": 47,
   "metadata": {},
   "outputs": [
    {
     "data": {
      "text/plain": [
       "array([[430.16852],\n",
       "       [394.2873 ],\n",
       "       [403.4004 ],\n",
       "       [446.28577],\n",
       "       [435.0954 ],\n",
       "       [471.62347],\n",
       "       [516.661  ],\n",
       "       [529.06384],\n",
       "       [582.07886],\n",
       "       [649.6471 ],\n",
       "       [622.93994],\n",
       "       [532.9927 ],\n",
       "       [487.65677],\n",
       "       [432.4246 ]], dtype=float32)"
      ]
     },
     "execution_count": 47,
     "metadata": {},
     "output_type": "execute_result"
    }
   ],
   "source": [
    "y_pred = model.predict(x_test)\n",
    "ot = rs_pas.inverse_transform(y_pred)\n",
    "ot"
   ]
  },
  {
   "cell_type": "code",
   "execution_count": 48,
   "metadata": {},
   "outputs": [
    {
     "data": {
      "text/plain": [
       "array([[430.16852],\n",
       "       [394.2873 ],\n",
       "       [403.4004 ],\n",
       "       [446.28577],\n",
       "       [435.0954 ],\n",
       "       [471.62347],\n",
       "       [516.661  ],\n",
       "       [529.06384],\n",
       "       [582.07886],\n",
       "       [649.6471 ],\n",
       "       [622.93994],\n",
       "       [532.9927 ],\n",
       "       [487.65677],\n",
       "       [432.4246 ]], dtype=float32)"
      ]
     },
     "execution_count": 48,
     "metadata": {},
     "output_type": "execute_result"
    }
   ],
   "source": [
    "y_test_inv = rs_pas.inverse_transform(y_test.reshape(1,-1))\n",
    "y_pred_inv = rs_pas.inverse_transform(y_pred)\n",
    "y_pred_inv"
   ]
  },
  {
   "cell_type": "code",
   "execution_count": 49,
   "metadata": {},
   "outputs": [
    {
     "data": {
      "image/png": "[encoded data removed]",
      "text/plain": [
       "<Figure size 432x432 with 1 Axes>"
      ]
     },
     "metadata": {
      "needs_background": "light"
     },
     "output_type": "display_data"
    }
   ],
   "source": [
    "plt.figure(figsize=(6,6))\n",
    "plt.plot(y_test_inv.flatten(), marker='.', label=\"true\")\n",
    "plt.plot(y_pred_inv.flatten(), 'r', label=\"prediction\")\n",
    "plt.ylabel('Passengers')\n",
    "plt.xlabel('Time Step')\n",
    "plt.legend()\n",
    "plt.show();"
   ]
  },
  {
   "cell_type": "code",
   "execution_count": 50,
   "metadata": {},
   "outputs": [],
   "source": [
    "#save the model\n",
    "model.save('airline4-copy1.h5')"
   ]
  },
  {
   "cell_type": "code",
   "execution_count": 51,
   "metadata": {},
   "outputs": [
    {
     "name": "stdout",
     "output_type": "stream",
     "text": [
      "Train Score: 0.02 MSE (0.16 RMSE)\n",
      "Test Score: 0.11 MSE (0.33 RMSE)\n"
     ]
    }
   ],
   "source": [
    "# evaluate the model performance\n",
    "import math\n",
    "trainScore = model.evaluate(x_train,y_train, verbose=0)\n",
    "print('Train Score: %.2f MSE (%.2f RMSE)' % (trainScore, math.sqrt(trainScore)))\n",
    "testScore = model.evaluate(x_test, y_test, verbose=0)\n",
    "print('Test Score: %.2f MSE (%.2f RMSE)' % (testScore, math.sqrt(testScore)))"
   ]
  },
  {
   "cell_type": "code",
   "execution_count": 52,
   "metadata": {},
   "outputs": [],
   "source": [
    "y_test_inv = rs_pas.inverse_transform(y_test.reshape(1,-1))\n",
    "y_pred_inv = rs_pas.inverse_transform(y_pred)\n",
    "\n",
    "arr_1 = np.array(y_test_inv)\n",
    "arr_2 = np.array(y_pred_inv)\n",
    "\n",
    "actual = pd.DataFrame(data=arr_1.flatten(),columns=[\"actual\"])\n",
    "predicted = pd.DataFrame(data=arr_2.flatten(),columns = [\"predicted\"])"
   ]
  },
  {
   "cell_type": "code",
   "execution_count": 53,
   "metadata": {},
   "outputs": [
    {
     "data": {
      "text/html": [
       "<div>\n",
       "<style scoped>\n",
       "    .dataframe tbody tr th:only-of-type {\n",
       "        vertical-align: middle;\n",
       "    }\n",
       "\n",
       "    .dataframe tbody tr th {\n",
       "        vertical-align: top;\n",
       "    }\n",
       "\n",
       "    .dataframe thead th {\n",
       "        text-align: right;\n",
       "    }\n",
       "</style>\n",
       "<table border=\"1\" class=\"dataframe\">\n",
       "  <thead>\n",
       "    <tr style=\"text-align: right;\">\n",
       "      <th></th>\n",
       "      <th>actual</th>\n",
       "      <th>predicted</th>\n",
       "    </tr>\n",
       "  </thead>\n",
       "  <tbody>\n",
       "    <tr>\n",
       "      <th>0</th>\n",
       "      <td>362.0</td>\n",
       "      <td>430.168518</td>\n",
       "    </tr>\n",
       "    <tr>\n",
       "      <th>1</th>\n",
       "      <td>405.0</td>\n",
       "      <td>394.287292</td>\n",
       "    </tr>\n",
       "    <tr>\n",
       "      <th>2</th>\n",
       "      <td>417.0</td>\n",
       "      <td>403.400391</td>\n",
       "    </tr>\n",
       "    <tr>\n",
       "      <th>3</th>\n",
       "      <td>391.0</td>\n",
       "      <td>446.285767</td>\n",
       "    </tr>\n",
       "    <tr>\n",
       "      <th>4</th>\n",
       "      <td>419.0</td>\n",
       "      <td>435.095398</td>\n",
       "    </tr>\n",
       "  </tbody>\n",
       "</table>\n",
       "</div>"
      ],
      "text/plain": [
       "   actual   predicted\n",
       "0   362.0  430.168518\n",
       "1   405.0  394.287292\n",
       "2   417.0  403.400391\n",
       "3   391.0  446.285767\n",
       "4   419.0  435.095398"
      ]
     },
     "execution_count": 53,
     "metadata": {},
     "output_type": "execute_result"
    }
   ],
   "source": [
    "final = pd.concat([actual,predicted],axis=1)\n",
    "final.head()"
   ]
  },
  {
   "cell_type": "code",
   "execution_count": null,
   "metadata": {},
   "outputs": [],
   "source": []
  }
 ],
 "metadata": {
  "kernelspec": {
   "display_name": "Python 3",
   "language": "python",
   "name": "python3"
  },
  "language_info": {
   "codemirror_mode": {
    "name": "ipython",
    "version": 3
   },
   "file_extension": ".py",
   "mimetype": "text/x-python",
   "name": "python",
   "nbconvert_exporter": "python",
   "pygments_lexer": "ipython3",
   "version": "3.9.5"
  }
 },
 "nbformat": 4,
 "nbformat_minor": 2
}
